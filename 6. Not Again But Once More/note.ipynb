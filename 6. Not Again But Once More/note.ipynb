{
 "cells": [
  {
   "cell_type": "markdown",
   "metadata": {
    "collapsed": true,
    "pycharm": {
     "name": "#%% md\n"
    }
   },
   "source": [
    "# Задание 6"
   ]
  },
  {
   "cell_type": "code",
   "execution_count": 3,
   "outputs": [],
   "source": [
    "import numpy as np\n",
    "%matplotlib inline\n",
    "%matplotlib widget\n",
    "import matplotlib.pyplot as plt\n",
    "from typing import Callable\n",
    "import pandas as pd\n",
    "from random import uniform as rnd\n",
    "import scipy.integrate as integrate\n",
    "\n",
    "pd.set_option('display.max_columns', None)\n",
    "pd.set_option('display.max_rows', None)"
   ],
   "metadata": {
    "collapsed": false,
    "pycharm": {
     "name": "#%%\n"
    }
   }
  },
  {
   "cell_type": "markdown",
   "source": [
    "### Код из [Задания 5](https://github.com/astatochek/Computational_Workshop_4_sem/blob/main/5.1%20New%20Type%20of%20Integrals/note.ipynb)"
   ],
   "metadata": {
    "collapsed": false
   }
  },
  {
   "cell_type": "code",
   "execution_count": 23,
   "outputs": [],
   "source": [
    "# полиномы Лежандра (изначально P0 и P1)\n",
    "legendre_polynomials = [lambda x: 1., lambda x: x]\n",
    "# функция получения многочлена Лежандра степени n\n",
    "def get_Legendre(n: int) -> Callable:\n",
    "    def constructor(f1: Callable, f2: Callable, k: int) -> Callable:\n",
    "        def func(x: float) -> float:\n",
    "            return f1(x) * x * (2 * k - 1) / k - f2(x) * (k - 1) / k\n",
    "        return func\n",
    "    while len(legendre_polynomials) <= n:\n",
    "        i = len(legendre_polynomials)\n",
    "        next_func = constructor(legendre_polynomials[i-1], legendre_polynomials[i-2], i)\n",
    "        legendre_polynomials.append(next_func)\n",
    "    return legendre_polynomials[n]\n",
    "# величина невязки в методе секущих\n",
    "eps = 1.e-12\n",
    "# метод секущих\n",
    "def secant_method(f: Callable) -> np.ndarray:\n",
    "    segments = []\n",
    "    # функция для получения разбиения отрезка [a, b]\n",
    "    def get_partition(n: float, a: float, b: float) -> None:\n",
    "        h = (b - a) / n\n",
    "        left = a\n",
    "        for i in range(int(n)):\n",
    "            right = a + (i + 1) * h\n",
    "            if f(left) * f(right) < 0:\n",
    "                segments.append([left, right])\n",
    "            if f(right) != 0:\n",
    "                left = right\n",
    "    # получения разбиения для отрезка [-1, 1] с сохранением результатов в segments\n",
    "    get_partition(1.e3, -1, 1)\n",
    "    # функция для получения случайного числа из интервала (a, b)\n",
    "    def get_random(a: float, b: float) -> float:\n",
    "        x = rnd(a, b)\n",
    "        while x == a or x == b:\n",
    "            x = rnd(a, b)\n",
    "        return x\n",
    "    # сам метод секущих\n",
    "    def pure_secants(s: list[float]) -> float:\n",
    "        x0 = s[0]\n",
    "        x1 = get_random(x0, s[1])\n",
    "        x2 = x1 - (f(x1) / (f(x1) - f(x0))) * (x1 - x0)\n",
    "        while abs(x2 - x1) >= eps:\n",
    "            x2, x1, x0 = x2 - (f(x2) / (f(x2) - f(x1))) * (x2 - x1), x2, x1\n",
    "        return x2\n",
    "    # получение корней на сегментах методом секущих\n",
    "    hubs = np.array([pure_secants(segment) for segment in segments])\n",
    "    return hubs\n",
    "# получение коэффициентов КФ Гаусса\n",
    "def get_gauss_coefficients(hub_list: np.ndarray, n: int) -> np.ndarray:\n",
    "    Pn1 = get_Legendre(n - 1)\n",
    "    return np.array([2 * (1 - x**2) / (n * Pn1(x))**2 for x in hub_list])\n",
    "# вывод коэффициентов и узлов КФ Гаусса степени n\n",
    "def get_hubs_coefficients(n: int) -> pd.DataFrame:\n",
    "    dfs = {}\n",
    "    P = get_Legendre(n)\n",
    "    hubs = secant_method(P)\n",
    "    coefficients = get_gauss_coefficients(hubs, n)\n",
    "    dfs[f\"Узлы для N={n}\"] = hubs\n",
    "    dfs[f\"Коэффициенты для N={n}\"] = coefficients\n",
    "    return pd.DataFrame(dfs, index=[f\"X{i+1}\" for i in range(n)])"
   ],
   "metadata": {
    "collapsed": false,
    "pycharm": {
     "name": "#%%\n"
    }
   }
  },
  {
   "cell_type": "markdown",
   "source": [
    " ### Реализация составной КФ Гаусса"
   ],
   "metadata": {
    "collapsed": false,
    "pycharm": {
     "name": "#%% md\n"
    }
   }
  },
  {
   "cell_type": "code",
   "execution_count": 33,
   "outputs": [],
   "source": [
    "def composite_gauss(f: Callable, a: float, b: float, n: int, m: int) -> float:\n",
    "    legendre = get_Legendre(n)\n",
    "    coefficients = get_gauss_coefficients(secant_method(legendre), n)\n",
    "    hubs = secant_method(legendre)\n",
    "    S = 0\n",
    "    h = (b - a) / m\n",
    "    for i in range(m):\n",
    "        hub_list = np.array([(2*a + h * (t + 2*i+1)) / 2 for t in hubs])\n",
    "        S += np.sum([coefficients[j] * f(hub_list[j]) for j in range(n)])\n",
    "    return h * S / 2"
   ],
   "metadata": {
    "collapsed": false,
    "pycharm": {
     "name": "#%%\n"
    }
   }
  },
  {
   "cell_type": "markdown",
   "source": [
    "### Вычисление $\\displaystyle\\int_a^b\\rho(x)f(x)~dx$ при $a=0$, $b=1$, $\\rho(x) = \\sqrt{1-x}$, $f(x) = \\sin(x)$"
   ],
   "metadata": {
    "collapsed": false
   }
  },
  {
   "cell_type": "code",
   "execution_count": 62,
   "outputs": [
    {
     "name": "stdout",
     "output_type": "stream",
     "text": [
      "N = 6, M = 1000\n",
      "Value: 0.2502017052487212\n",
      "Expected: 0.25020169514301416\n",
      "Error: 1.0105707048957413e-08\n"
     ]
    },
    {
     "data": {
      "text/plain": "                             M=600                          M=800  \\\nN=3  Error: 1.4394566566489075e-07   Error: 9.349358220944737e-08   \nN=4   Error: 6.647569444906409e-08  Error: 4.3176736963523865e-08   \nN=6  Error: 2.1744202938211998e-08    Error: 1.41232004979841e-08   \nN=7   Error: 1.410886979469339e-08    Error: 9.16394438110757e-09   \nN=8   Error: 9.671229983521101e-09   Error: 6.281629549853562e-09   \n\n                            M=1000                        M=1200  \\\nN=3   Error: 6.689775844392898e-08  Error: 5.089044186057379e-08   \nN=4   Error: 3.089454581051143e-08  Error: 2.350217009894351e-08   \nN=6  Error: 1.0105707326513169e-08  Error: 7.687656289334655e-09   \nN=7   Error: 6.557168918952527e-09  Error: 4.988200019706568e-09   \nN=8   Error: 4.494759175965868e-09  Error: 3.419275640403896e-09   \n\n                            M=1400  \nN=3   Error: 4.038439244125058e-08  \nN=4  Error: 1.8650323396762758e-08  \nN=6  Error: 6.1006079077330355e-09  \nN=7   Error: 3.958431915584981e-09  \nN=8  Error: 2.7133979507709682e-09  ",
      "text/html": "<div>\n<style scoped>\n    .dataframe tbody tr th:only-of-type {\n        vertical-align: middle;\n    }\n\n    .dataframe tbody tr th {\n        vertical-align: top;\n    }\n\n    .dataframe thead th {\n        text-align: right;\n    }\n</style>\n<table border=\"1\" class=\"dataframe\">\n  <thead>\n    <tr style=\"text-align: right;\">\n      <th></th>\n      <th>M=600</th>\n      <th>M=800</th>\n      <th>M=1000</th>\n      <th>M=1200</th>\n      <th>M=1400</th>\n    </tr>\n  </thead>\n  <tbody>\n    <tr>\n      <th>N=3</th>\n      <td>Error: 1.4394566566489075e-07</td>\n      <td>Error: 9.349358220944737e-08</td>\n      <td>Error: 6.689775844392898e-08</td>\n      <td>Error: 5.089044186057379e-08</td>\n      <td>Error: 4.038439244125058e-08</td>\n    </tr>\n    <tr>\n      <th>N=4</th>\n      <td>Error: 6.647569444906409e-08</td>\n      <td>Error: 4.3176736963523865e-08</td>\n      <td>Error: 3.089454581051143e-08</td>\n      <td>Error: 2.350217009894351e-08</td>\n      <td>Error: 1.8650323396762758e-08</td>\n    </tr>\n    <tr>\n      <th>N=6</th>\n      <td>Error: 2.1744202938211998e-08</td>\n      <td>Error: 1.41232004979841e-08</td>\n      <td>Error: 1.0105707326513169e-08</td>\n      <td>Error: 7.687656289334655e-09</td>\n      <td>Error: 6.1006079077330355e-09</td>\n    </tr>\n    <tr>\n      <th>N=7</th>\n      <td>Error: 1.410886979469339e-08</td>\n      <td>Error: 9.16394438110757e-09</td>\n      <td>Error: 6.557168918952527e-09</td>\n      <td>Error: 4.988200019706568e-09</td>\n      <td>Error: 3.958431915584981e-09</td>\n    </tr>\n    <tr>\n      <th>N=8</th>\n      <td>Error: 9.671229983521101e-09</td>\n      <td>Error: 6.281629549853562e-09</td>\n      <td>Error: 4.494759175965868e-09</td>\n      <td>Error: 3.419275640403896e-09</td>\n      <td>Error: 2.7133979507709682e-09</td>\n    </tr>\n  </tbody>\n</table>\n</div>"
     },
     "execution_count": 62,
     "metadata": {},
     "output_type": "execute_result"
    }
   ],
   "source": [
    "n = int(input('Введите число узлов для КФ Гаусса'))\n",
    "m = int(input('Введите число промежутков деления'))\n",
    "a = 0\n",
    "b = 1\n",
    "phi = lambda x: np.sqrt(1 - x) * np.sin(x)\n",
    "data = {}\n",
    "Expected = 0.2502016951430141493461499310819776539790258894746767857547317579\n",
    "Value = composite_gauss(phi, a, b, n, m)\n",
    "print(f'N = {n}, M = {m}')\n",
    "print('Value:', Value)\n",
    "print('Expected:', Expected)\n",
    "print('Error:', abs(Value - Expected))\n",
    "# print(f'(Expected Error: {Error})')\n",
    "size = 5\n",
    "for j in range(size):\n",
    "    fragmentation = int(m * (j + 1 + size // 2) / size)\n",
    "    Errors = []\n",
    "    for i in range(size):\n",
    "        degree = int(n * (i + 1 + size // 2) / size)\n",
    "        val = composite_gauss(phi, a, b, degree, fragmentation)\n",
    "        Errors.append(f'Error: {abs(val - Expected)}')\n",
    "    data[f'M={fragmentation}'] = Errors\n",
    "df = pd.DataFrame(data, index=[f'N={int(n * (i + 1 + size // 2) / size)}' for i in range(size)])\n",
    "df"
   ],
   "metadata": {
    "collapsed": false,
    "pycharm": {
     "name": "#%%\n"
    }
   }
  },
  {
   "cell_type": "markdown",
   "source": [
    "### Вывод узлов и коэффициентов исходной КФ Гаусса"
   ],
   "metadata": {
    "collapsed": false
   }
  },
  {
   "cell_type": "code",
   "execution_count": 64,
   "outputs": [
    {
     "data": {
      "text/plain": "                          Node 1               Node 2               Node 3  \\\nNodes         -0.932469514203152  -0.6612093864662646  -0.2386191860831969   \nCoefficients   0.171324492379171    0.360761573048138  0.46791393457269126   \n\n                           Node 4              Node 5             Node 6  \nNodes         0.23861918608319693  0.6612093864662645  0.932469514203152  \nCoefficients  0.46791393457269126  0.3607615730481388  0.171324492379171  ",
      "text/html": "<div>\n<style scoped>\n    .dataframe tbody tr th:only-of-type {\n        vertical-align: middle;\n    }\n\n    .dataframe tbody tr th {\n        vertical-align: top;\n    }\n\n    .dataframe thead th {\n        text-align: right;\n    }\n</style>\n<table border=\"1\" class=\"dataframe\">\n  <thead>\n    <tr style=\"text-align: right;\">\n      <th></th>\n      <th>Node 1</th>\n      <th>Node 2</th>\n      <th>Node 3</th>\n      <th>Node 4</th>\n      <th>Node 5</th>\n      <th>Node 6</th>\n    </tr>\n  </thead>\n  <tbody>\n    <tr>\n      <th>Nodes</th>\n      <td>-0.932469514203152</td>\n      <td>-0.6612093864662646</td>\n      <td>-0.2386191860831969</td>\n      <td>0.23861918608319693</td>\n      <td>0.6612093864662645</td>\n      <td>0.932469514203152</td>\n    </tr>\n    <tr>\n      <th>Coefficients</th>\n      <td>0.171324492379171</td>\n      <td>0.360761573048138</td>\n      <td>0.46791393457269126</td>\n      <td>0.46791393457269126</td>\n      <td>0.3607615730481388</td>\n      <td>0.171324492379171</td>\n    </tr>\n  </tbody>\n</table>\n</div>"
     },
     "execution_count": 64,
     "metadata": {},
     "output_type": "execute_result"
    }
   ],
   "source": [
    "# n вводится в предыдущем блоке\n",
    "legendre = get_Legendre(n)\n",
    "nodes = secant_method(legendre)\n",
    "coefficients = get_gauss_coefficients(nodes, n)\n",
    "data = {}\n",
    "for i in range(n):\n",
    "    data[f'Node {i+1}'] = {'Nodes': str(nodes[i]), 'Coefficients': str(coefficients[i])}\n",
    "df = pd.DataFrame(data)\n",
    "df"
   ],
   "metadata": {
    "collapsed": false,
    "pycharm": {
     "name": "#%%\n"
    }
   }
  }
 ],
 "metadata": {
  "kernelspec": {
   "display_name": "Python 3",
   "language": "python",
   "name": "python3"
  },
  "language_info": {
   "codemirror_mode": {
    "name": "ipython",
    "version": 2
   },
   "file_extension": ".py",
   "mimetype": "text/x-python",
   "name": "python",
   "nbconvert_exporter": "python",
   "pygments_lexer": "ipython2",
   "version": "2.7.6"
  }
 },
 "nbformat": 4,
 "nbformat_minor": 0
}