{
 "cells": [
  {
   "cell_type": "code",
   "execution_count": 1,
   "metadata": {},
   "outputs": [],
   "source": [
    "import numpy as np\n",
    "import matplotlib.pyplot as plt\n",
    "import matplotlib.patches as ptch\n",
    "%matplotlib inline\n",
    "import pandas as pd\n",
    "import ipywidgets as widgets\n",
    "from ipywidgets import interact\n",
    "\n",
    "pd.set_option('display.max_columns', None)\n",
    "pd.set_option('display.max_rows', None)\n",
    "pd.options.display.float_format = '{:.16f}'.format"
   ]
  },
  {
   "cell_type": "markdown",
   "metadata": {},
   "source": [
    "$f(x) = x\\sin(x)\\cos(x)$"
   ]
  },
  {
   "cell_type": "code",
   "execution_count": 2,
   "metadata": {},
   "outputs": [],
   "source": [
    "def F(x: float) -> float:\n",
    "    return x * np.cos(x) * np.sin(x)"
   ]
  },
  {
   "cell_type": "markdown",
   "metadata": {},
   "source": [
    "$f'(x) = x \\cos^2(x) + \\cos(x) \\sin(x) - x \\sin^2(x)$"
   ]
  },
  {
   "cell_type": "code",
   "execution_count": 3,
   "metadata": {},
   "outputs": [],
   "source": [
    "def dF(x: float) -> float:\n",
    "    return x * np.cos(x)**2 + np.cos(x) * np.sin(x) - x * np.sin(x)**2"
   ]
  },
  {
   "cell_type": "markdown",
   "metadata": {},
   "source": [
    "$f''(x) = 2(\\cos(2x) - x\\sin(2x))$"
   ]
  },
  {
   "cell_type": "code",
   "execution_count": 4,
   "metadata": {},
   "outputs": [],
   "source": [
    "def ddF(x: float) -> float:\n",
    "    return 2 * (np.cos(2 * x) - x * np.sin(2 * x))"
   ]
  },
  {
   "cell_type": "markdown",
   "metadata": {},
   "source": [
    "$f^{(4)}(x) = 8(x\\sin(2x) - 2\\cos(2x))$"
   ]
  },
  {
   "cell_type": "code",
   "execution_count": 5,
   "metadata": {},
   "outputs": [],
   "source": [
    "def d4F(x: float) -> float:\n",
    "    return 8 * (x * np.sin(2 * x) - 2 * np.cos(2 * x))"
   ]
  },
  {
   "cell_type": "markdown",
   "metadata": {},
   "source": [
    "$\\displaystyle\\int f(x)\\ dx = \\frac{1}{8}(\\sin(2x) - 2x\\cos(2x)) + c$"
   ]
  },
  {
   "cell_type": "code",
   "execution_count": 6,
   "metadata": {},
   "outputs": [],
   "source": [
    "def IF(x: float) -> float:\n",
    "    return (np.sin(2 * x) - 2 * x * np.cos(2 * x)) / 8"
   ]
  },
  {
   "cell_type": "markdown",
   "metadata": {},
   "source": [
    "$p_0(x) = 2$\n"
   ]
  },
  {
   "cell_type": "code",
   "execution_count": 7,
   "metadata": {},
   "outputs": [],
   "source": [
    "def P0(x: float) -> float:\n",
    "    return 2"
   ]
  },
  {
   "cell_type": "markdown",
   "metadata": {},
   "source": [
    "$\\displaystyle\\int p_0(x)\\ dx = 2x + c$ "
   ]
  },
  {
   "cell_type": "code",
   "execution_count": 8,
   "metadata": {},
   "outputs": [],
   "source": [
    "def IP0(x: float) -> float:\n",
    "    return 2 * x"
   ]
  },
  {
   "cell_type": "markdown",
   "metadata": {},
   "source": [
    "$p_1(x) = x+1$\n"
   ]
  },
  {
   "cell_type": "code",
   "execution_count": 9,
   "metadata": {},
   "outputs": [],
   "source": [
    "def P1(x: float) -> float:\n",
    "    return x + 1"
   ]
  },
  {
   "cell_type": "markdown",
   "metadata": {},
   "source": [
    "$p_1'(x) = 1$"
   ]
  },
  {
   "cell_type": "code",
   "execution_count": 10,
   "metadata": {},
   "outputs": [],
   "source": [
    "def dP1(x: float) -> float:\n",
    "    return 1"
   ]
  },
  {
   "cell_type": "markdown",
   "metadata": {},
   "source": [
    "$\\displaystyle\\int p_1(x)\\ dx = \\frac{x^2}{2} + x + c$"
   ]
  },
  {
   "cell_type": "code",
   "execution_count": 11,
   "metadata": {},
   "outputs": [],
   "source": [
    "def IP1(x: float) -> float:\n",
    "    return x ** 2 / 2 + x"
   ]
  },
  {
   "cell_type": "markdown",
   "metadata": {},
   "source": [
    "$p_2(x) = 3x^2 - 2$"
   ]
  },
  {
   "cell_type": "code",
   "execution_count": 12,
   "metadata": {},
   "outputs": [],
   "source": [
    "def P2(x: float) -> float:\n",
    "    return 3 * x ** 2 - 2"
   ]
  },
  {
   "cell_type": "markdown",
   "metadata": {},
   "source": [
    "$p_2'(x) = 6x$"
   ]
  },
  {
   "cell_type": "code",
   "execution_count": 13,
   "metadata": {},
   "outputs": [],
   "source": [
    "def dP2(x: float) -> float:\n",
    "    return 6 * x"
   ]
  },
  {
   "cell_type": "markdown",
   "metadata": {},
   "source": [
    "$p_2''(x) = 6$"
   ]
  },
  {
   "cell_type": "code",
   "execution_count": 14,
   "metadata": {},
   "outputs": [],
   "source": [
    "def ddP2(x: float) -> float:\n",
    "    return 6"
   ]
  },
  {
   "cell_type": "markdown",
   "metadata": {},
   "source": [
    "$\\displaystyle\\int p_2(x)\\ dx = x^3 - 2x + c$"
   ]
  },
  {
   "cell_type": "code",
   "execution_count": 15,
   "metadata": {},
   "outputs": [],
   "source": [
    "def IP2(x: float) -> float:\n",
    "    return x ** 3 - 2 * x"
   ]
  },
  {
   "cell_type": "markdown",
   "metadata": {},
   "source": [
    "$p_3(x) = 4x^3 - 3x^2 + 2x$"
   ]
  },
  {
   "cell_type": "code",
   "execution_count": 16,
   "metadata": {},
   "outputs": [],
   "source": [
    "def P3(x: float) -> float:\n",
    "    return 4 * x ** 3 - 3 * x ** 2 + 2 * x"
   ]
  },
  {
   "cell_type": "markdown",
   "metadata": {},
   "source": [
    "$p_3'(x) = 12x^2 - 6x + 2$"
   ]
  },
  {
   "cell_type": "code",
   "execution_count": 17,
   "metadata": {},
   "outputs": [],
   "source": [
    "def dP3(x: float) -> float:\n",
    "    return 12 * x**2 - 6 * x + 2"
   ]
  },
  {
   "cell_type": "markdown",
   "metadata": {},
   "source": [
    "$p_3''(x) = 24x - 6$"
   ]
  },
  {
   "cell_type": "code",
   "execution_count": 18,
   "metadata": {},
   "outputs": [],
   "source": [
    "def ddP3(x: float) -> float:\n",
    "    return 24 * x - 6"
   ]
  },
  {
   "cell_type": "markdown",
   "metadata": {},
   "source": [
    "$\\displaystyle\\int p_3(x)\\ dx = x^4 - x^3 + x^2$"
   ]
  },
  {
   "cell_type": "code",
   "execution_count": 19,
   "metadata": {},
   "outputs": [],
   "source": [
    "def IP3(x: float) -> float:\n",
    "    return x ** 4 - x ** 3 + x ** 2"
   ]
  },
  {
   "cell_type": "markdown",
   "metadata": {},
   "source": [
    "Адаптированные квадратурные формулы"
   ]
  },
  {
   "cell_type": "code",
   "execution_count": 20,
   "metadata": {},
   "outputs": [],
   "source": [
    "def getSum(f, a: float, b: float, n: int) -> float:\n",
    "    h = (b - a) / n\n",
    "    return sum([f(a + i * h) for i in range(1, n)])\n",
    "\n",
    "\n",
    "def KFL(f, s: float, a: float, b: float, n: int) -> float:\n",
    "    return (f(a) + s) * (b - a) / n\n",
    "\n",
    "\n",
    "def KFR(f, s: float, a: float, b: float, n: int) -> float:\n",
    "    return (s + f(b)) * (b - a) / n\n",
    "\n",
    "\n",
    "def KFM(f, s: float, a: float, b: float, n: int) -> float:\n",
    "    h = (b - a) / n\n",
    "    return sum([f(a + i * h + h / 2) for i in range(n)]) * (b - a) / n\n",
    "\n",
    "\n",
    "def KFT(f, s: float, a: float, b: float, n: int) -> float:\n",
    "    return (f(a) + 2 * s + f(b)) * (b - a) / (2 * n)\n",
    "\n",
    "\n",
    "def KFS(f, s: float, a: float, b: float, n: int) -> float:\n",
    "    h = (b - a) / n\n",
    "    sMid = sum([f(a + (2 * i + 1) * h / 2) for i in range(n)])\n",
    "    return (f(a) + 2 * s + 4 * sMid + f(b)) * h / 6"
   ]
  },
  {
   "cell_type": "markdown",
   "metadata": {},
   "source": [
    "Функции для нахождения теоретической погрешности"
   ]
  },
  {
   "cell_type": "code",
   "execution_count": 21,
   "metadata": {},
   "outputs": [],
   "source": [
    "def zero(x: float) -> float:\n",
    "    return 0\n",
    "\n",
    "\n",
    "def RKFL(df, a: float, b: float, n: int) -> float:\n",
    "    X = np.linspace(a, b, 1000)\n",
    "    return (b - a)**2 * max([abs(df(x)) for x in X]) / (2 * n)\n",
    "\n",
    "\n",
    "def RKFR(df, a: float, b: float, n: int) -> float:\n",
    "    X = np.linspace(a, b, 1000)\n",
    "    return (b - a)**2 * max([abs(df(x)) for x in X]) / (2 * n)\n",
    "\n",
    "\n",
    "def RKFM(ddf, a: float, b: float, n: int) -> float:\n",
    "    X = np.linspace(a, b, 1000)\n",
    "    return (b - a)**3 * max([abs(ddf(x)) for x in X]) / (24 * n**2)\n",
    "\n",
    "\n",
    "def RKFT(ddf, a: float, b: float, n: int) -> float:\n",
    "    X = np.linspace(a, b, 1000)\n",
    "    return (b - a)**3 * max([abs(ddf(x)) for x in X]) / (12 * n**2)\n",
    "\n",
    "\n",
    "def RKFS(d4f, a: float, b: float, n: int) -> float:\n",
    "    X = np.linspace(a, b, 1000)\n",
    "    return (b - a)**5 * max([abs(d4f(x)) for x in X]) / (2880 * n**4)"
   ]
  },
  {
   "cell_type": "markdown",
   "metadata": {},
   "source": [
    "Элементы для вывода"
   ]
  },
  {
   "cell_type": "code",
   "execution_count": 22,
   "metadata": {},
   "outputs": [],
   "source": [
    "def printGraph(f, a: float, b: float, expected: float, n: int, name: str, res: float):\n",
    "    \n",
    "    ptsnum = 1000\n",
    "    ep = (b - a) / 8\n",
    "\n",
    "    X = np.linspace(a - ep, b + ep, ptsnum)\n",
    "    y = [f(x) for x in X]\n",
    "    Ox = [0 for _ in X]\n",
    "\n",
    "    fig, ax = plt.subplots()\n",
    "    ax.plot(X, y, color=\"blue\", alpha=0.5, label=f\"{f.__name__}(x)\")\n",
    "    ax.plot(X, Ox, color=\"black\")\n",
    "\n",
    "    X = [x for x in X if a <= x <= b]\n",
    "    y = [f(x) for x in X]\n",
    "    Xaxis = [0 for _ in X]\n",
    "\n",
    "    h = (b - a) / n\n",
    "\n",
    "    figures = []\n",
    "\n",
    "    if (name == \"KFL\"):\n",
    "        for i in range(n):\n",
    "            c = a + i * (b - a) / n\n",
    "            elem = ((c, 0), (c, f(c)), (c+h, f(c)), (c+h, 0))\n",
    "            figures.append(elem)\n",
    "    elif (name == \"KFR\"):\n",
    "        for i in range(n):\n",
    "            c = a + i * (b - a) / n\n",
    "            elem = ((c, 0), (c, f(c + h)), (c+h, f(c + h)), (c+h, 0))\n",
    "            figures.append(elem)\n",
    "    elif (name == \"KFM\"):\n",
    "        for i in range(n):\n",
    "            c = a + i * (b - a) / n\n",
    "            elem = ((c, 0), (c, f(c + h / 2)), (c+h, f(c + h / 2)), (c+h, 0))\n",
    "            figures.append(elem)\n",
    "    elif (name == \"KFT\"):\n",
    "        for i in range(n):\n",
    "            c = a + i * (b - a) / n\n",
    "            elem = ((c, 0), (c, f(c)), (c+h, f(c + h)), (c+h, 0))\n",
    "            figures.append(elem)\n",
    "\n",
    "    ax.add_patch(ptch.Polygon(figures[0], edgecolor=\"#1207ff\", facecolor=\"#1207ff\", \n",
    "                                        fill=True, alpha=0.2, label=f\"{round(res, 3)}\"))       \n",
    "\n",
    "    figures.remove(figures[0])\n",
    "    \n",
    "    [ax.add_patch(ptch.Polygon(figure, edgecolor=\"#1207ff\", facecolor=\"#1207ff\", \n",
    "                                        fill=True, alpha=0.2)) for figure in figures]\n",
    "\n",
    "    ax.fill_between(X, Xaxis, y, facecolor=\"red\", alpha=0.2, label=f\"{round(expected, 3)}\")\n",
    "    ax.vlines(a, min(f(a), 0), max(f(a), 0), color=\"blue\", alpha=0.2, linestyle=\"--\")\n",
    "    ax.vlines(b, min(f(b), 0), max(f(b), 0), color=\"blue\", alpha=0.2, linestyle=\"--\")\n",
    "    ax.set_xlabel(\"x\")\n",
    "    ax.set_ylabel(\"y\")\n",
    "    ax.legend()\n",
    "\n",
    "    plt.show()\n",
    "\n",
    "\n",
    "def getGraph(f, If, formula, a: float, b: float, n: int):\n",
    "    Sum = getSum(f, a, b, n)\n",
    "    Res = formula(f, Sum, a, b, n)\n",
    "    Expected = If(b) - If(a)\n",
    "    printGraph(f, a, b, Expected, n, formula.__name__, Res)\n",
    "\n",
    "\n",
    "def getGraphInteract(f, If, formula, a, b, n__):\n",
    "    def graph_(n=n__):\n",
    "        return getGraph(f, If, formula, a, b, n)\n",
    "    return graph_\n",
    "\n",
    "\n",
    "def getData(f, If, df, ddf, d4f, a: float, b: float, n: int):\n",
    "    Sum = getSum(f, a, b, n)\n",
    "    Expected = If(b) - If(a)\n",
    "    Results = [If(b) - If(a), KFL(f, Sum, a, b, n), KFR(f, Sum, a, b, n), \n",
    "                        KFM(f, Sum, a, b, n), KFT(f, Sum, a, b, n), KFS(f, Sum, a, b, n)]\n",
    "    R = [0, RKFL(df, a, b, n), RKFR(df, a, b, n), RKFM(ddf, a, b, n), RKFT(ddf, a, b, n), RKFS(d4f, a, b, n)]\n",
    "    data = {\n",
    "        \"Значение\": Results,\n",
    "        \"Фактическая Погрешность\": [abs(Expected - result) for result in Results],\n",
    "        \"Теоретическая Погрешность\": R\n",
    "    }\n",
    "    df = pd.DataFrame(data, index=[\"Точный интеграл\", \"СКФ левых прямоугольников\", \n",
    "                        \"СКФ правых прямоугольников\", \"СКФ средних прямоугольников\",\n",
    "                        \"СКФ трапеций\", \"СКФ Симпсона\"])\n",
    "    print(df)\n"
   ]
  },
  {
   "cell_type": "markdown",
   "metadata": {},
   "source": [
    "Входные данные:"
   ]
  },
  {
   "cell_type": "code",
   "execution_count": 23,
   "metadata": {},
   "outputs": [
    {
     "data": {
      "application/vnd.jupyter.widget-view+json": {
       "model_id": "c2a092f198864be0a41ef1be19993c58",
       "version_major": 2,
       "version_minor": 0
      },
      "text/plain": [
       "FloatText(value=-6.0, description='a: ')"
      ]
     },
     "metadata": {},
     "output_type": "display_data"
    },
    {
     "data": {
      "application/vnd.jupyter.widget-view+json": {
       "model_id": "b33129e8e31445398f0f144b45cc87e3",
       "version_major": 2,
       "version_minor": 0
      },
      "text/plain": [
       "FloatText(value=6.0, description='b: ')"
      ]
     },
     "metadata": {},
     "output_type": "display_data"
    },
    {
     "data": {
      "application/vnd.jupyter.widget-view+json": {
       "model_id": "f2f6d87a751540c78ae5654e2ca8d9fd",
       "version_major": 2,
       "version_minor": 0
      },
      "text/plain": [
       "IntText(value=20, description='n: ')"
      ]
     },
     "metadata": {},
     "output_type": "display_data"
    }
   ],
   "source": [
    "promptA = widgets.FloatText(\n",
    "    value=-6,\n",
    "    description='a: ',\n",
    "    disabled=False\n",
    ")\n",
    "promptB = widgets.FloatText(\n",
    "    value=6,\n",
    "    description='b: ',\n",
    "    disabled=False\n",
    ")\n",
    "promptN = widgets.IntText(\n",
    "    value=20,\n",
    "    description='n: ',\n",
    "    disabled=False\n",
    ")\n",
    "display(promptA)\n",
    "display(promptB)\n",
    "display(promptN)"
   ]
  },
  {
   "cell_type": "code",
   "execution_count": 34,
   "metadata": {},
   "outputs": [
    {
     "name": "stdout",
     "output_type": "stream",
     "text": [
      "a: 0.0\n",
      "b: 10.0\n",
      "n: 40\n"
     ]
    }
   ],
   "source": [
    "a_ = promptA.value\n",
    "b_ = promptB.value\n",
    "n_ = promptN.value\n",
    "print(f\"a: {a_}\\nb: {b_}\\nn: {n_}\")"
   ]
  },
  {
   "cell_type": "markdown",
   "metadata": {},
   "source": [
    "Визуализация СКФ левых прямоугольников для $f(x)$"
   ]
  },
  {
   "cell_type": "code",
   "execution_count": 35,
   "metadata": {},
   "outputs": [
    {
     "data": {
      "application/vnd.jupyter.widget-view+json": {
       "model_id": "e565dd233c904101aed8645d64613b88",
       "version_major": 2,
       "version_minor": 0
      },
      "text/plain": [
       "interactive(children=(IntSlider(value=40, description='n', max=80, min=2), Output()), _dom_classes=('widget-in…"
      ]
     },
     "metadata": {},
     "output_type": "display_data"
    },
    {
     "data": {
      "text/plain": [
       "<function __main__.getGraphInteract.<locals>.graph_(n=40)>"
      ]
     },
     "execution_count": 35,
     "metadata": {},
     "output_type": "execute_result"
    }
   ],
   "source": [
    "graph = getGraphInteract(F, IF, KFL, a_, b_, n_)\n",
    "interact(graph, n=(2, n_ * 2, 1)) \n",
    " "
   ]
  },
  {
   "cell_type": "markdown",
   "metadata": {},
   "source": [
    "Визуализация СКФ правых прямоугольников для $f(x)$"
   ]
  },
  {
   "cell_type": "code",
   "execution_count": 36,
   "metadata": {},
   "outputs": [
    {
     "data": {
      "application/vnd.jupyter.widget-view+json": {
       "model_id": "b8dab724cfbc4299b57d50f7259ed8a2",
       "version_major": 2,
       "version_minor": 0
      },
      "text/plain": [
       "interactive(children=(IntSlider(value=40, description='n', max=80, min=2), Output()), _dom_classes=('widget-in…"
      ]
     },
     "metadata": {},
     "output_type": "display_data"
    },
    {
     "data": {
      "text/plain": [
       "<function __main__.getGraphInteract.<locals>.graph_(n=40)>"
      ]
     },
     "execution_count": 36,
     "metadata": {},
     "output_type": "execute_result"
    }
   ],
   "source": [
    "graph = getGraphInteract(F, IF, KFR, a_, b_, n_)\n",
    "interact(graph, n=(2, n_ * 2, 1)) "
   ]
  },
  {
   "cell_type": "markdown",
   "metadata": {},
   "source": [
    "Визуализация СКФ средних прямоугольников для $f(x)$"
   ]
  },
  {
   "cell_type": "code",
   "execution_count": 37,
   "metadata": {},
   "outputs": [
    {
     "data": {
      "application/vnd.jupyter.widget-view+json": {
       "model_id": "455a752234fd4edd8198124f9f854e4b",
       "version_major": 2,
       "version_minor": 0
      },
      "text/plain": [
       "interactive(children=(IntSlider(value=40, description='n', max=80, min=2), Output()), _dom_classes=('widget-in…"
      ]
     },
     "metadata": {},
     "output_type": "display_data"
    },
    {
     "data": {
      "text/plain": [
       "<function __main__.getGraphInteract.<locals>.graph_(n=40)>"
      ]
     },
     "execution_count": 37,
     "metadata": {},
     "output_type": "execute_result"
    }
   ],
   "source": [
    "graph = getGraphInteract(F, IF, KFM, a_, b_, n_)\n",
    "interact(graph, n=(2, n_ * 2, 1)) "
   ]
  },
  {
   "cell_type": "markdown",
   "metadata": {},
   "source": [
    "Визуализация СКФ трапеций для $f(x)$"
   ]
  },
  {
   "cell_type": "code",
   "execution_count": 38,
   "metadata": {},
   "outputs": [
    {
     "data": {
      "application/vnd.jupyter.widget-view+json": {
       "model_id": "f7b11f762b04466d89e1b31e2eb06919",
       "version_major": 2,
       "version_minor": 0
      },
      "text/plain": [
       "interactive(children=(IntSlider(value=40, description='n', max=80, min=2), Output()), _dom_classes=('widget-in…"
      ]
     },
     "metadata": {},
     "output_type": "display_data"
    },
    {
     "data": {
      "text/plain": [
       "<function __main__.getGraphInteract.<locals>.graph_(n=40)>"
      ]
     },
     "execution_count": 38,
     "metadata": {},
     "output_type": "execute_result"
    }
   ],
   "source": [
    "graph = getGraphInteract(F, IF, KFT, a_, b_, n_)\n",
    "interact(graph, n=(2, n_ * 2, 1)) "
   ]
  },
  {
   "cell_type": "markdown",
   "metadata": {},
   "source": [
    "Значения СКФ, их абсолютная фактическая и теоретическая погрешность для $f(x)$"
   ]
  },
  {
   "cell_type": "code",
   "execution_count": 39,
   "metadata": {},
   "outputs": [
    {
     "name": "stdout",
     "output_type": "stream",
     "text": [
      "                                       Значение  Фактическая Погрешность  \\\n",
      "Точный интеграл             -0.9060869981925264       0.0000000000000000   \n",
      "СКФ левых прямоугольников   -1.4529269386287691       0.5468399404362427   \n",
      "СКФ правых прямоугольников  -0.3117453752192347       0.5943416229732916   \n",
      "СКФ средних прямоугольников -0.9180071611889609       0.0119201629964345   \n",
      "СКФ трапеций                -0.8823361569240019       0.0237508412685244   \n",
      "СКФ Симпсона                -0.9061168264339746       0.0000298282414483   \n",
      "\n",
      "                             Теоретическая Погрешность  \n",
      "Точный интеграл                     0.0000000000000000  \n",
      "СКФ левых прямоугольников          11.8467480529561691  \n",
      "СКФ правых прямоугольников         11.8467480529561691  \n",
      "СКФ средних прямоугольников         0.4566396144740068  \n",
      "СКФ трапеций                        0.9132792289480136  \n",
      "СКФ Симпсона                        0.0009754995292172  \n"
     ]
    }
   ],
   "source": [
    "getData(F, IF, dF, ddF, d4F, a_, b_, n_)"
   ]
  },
  {
   "cell_type": "markdown",
   "metadata": {},
   "source": [
    "Значения СКФ, их абсолютная фактическая и теоретическая погрешность для $p_0(x)$"
   ]
  },
  {
   "cell_type": "code",
   "execution_count": 40,
   "metadata": {},
   "outputs": [
    {
     "name": "stdout",
     "output_type": "stream",
     "text": [
      "                                       Значение  Фактическая Погрешность  \\\n",
      "Точный интеграл             20.0000000000000000       0.0000000000000000   \n",
      "СКФ левых прямоугольников   20.0000000000000000       0.0000000000000000   \n",
      "СКФ правых прямоугольников  20.0000000000000000       0.0000000000000000   \n",
      "СКФ средних прямоугольников 20.0000000000000000       0.0000000000000000   \n",
      "СКФ трапеций                20.0000000000000000       0.0000000000000000   \n",
      "СКФ Симпсона                20.0000000000000000       0.0000000000000000   \n",
      "\n",
      "                             Теоретическая Погрешность  \n",
      "Точный интеграл                     0.0000000000000000  \n",
      "СКФ левых прямоугольников           0.0000000000000000  \n",
      "СКФ правых прямоугольников          0.0000000000000000  \n",
      "СКФ средних прямоугольников         0.0000000000000000  \n",
      "СКФ трапеций                        0.0000000000000000  \n",
      "СКФ Симпсона                        0.0000000000000000  \n"
     ]
    }
   ],
   "source": [
    "getData(P0, IP0, zero, zero, zero, a_, b_, n_)"
   ]
  },
  {
   "cell_type": "markdown",
   "metadata": {},
   "source": [
    "Значения СКФ, их абсолютная фактическая и теоретическая погрешность для $p_1(x)$"
   ]
  },
  {
   "cell_type": "code",
   "execution_count": 41,
   "metadata": {},
   "outputs": [
    {
     "name": "stdout",
     "output_type": "stream",
     "text": [
      "                                       Значение  Фактическая Погрешность  \\\n",
      "Точный интеграл             60.0000000000000000       0.0000000000000000   \n",
      "СКФ левых прямоугольников   58.7500000000000000       1.2500000000000000   \n",
      "СКФ правых прямоугольников  61.2500000000000000       1.2500000000000000   \n",
      "СКФ средних прямоугольников 60.0000000000000000       0.0000000000000000   \n",
      "СКФ трапеций                60.0000000000000000       0.0000000000000000   \n",
      "СКФ Симпсона                60.0000000000000000       0.0000000000000000   \n",
      "\n",
      "                             Теоретическая Погрешность  \n",
      "Точный интеграл                     0.0000000000000000  \n",
      "СКФ левых прямоугольников           1.2500000000000000  \n",
      "СКФ правых прямоугольников          1.2500000000000000  \n",
      "СКФ средних прямоугольников         0.0000000000000000  \n",
      "СКФ трапеций                        0.0000000000000000  \n",
      "СКФ Симпсона                        0.0000000000000000  \n"
     ]
    }
   ],
   "source": [
    "getData(P1, IP1, dP1, zero, zero, a_, b_, n_)"
   ]
  },
  {
   "cell_type": "markdown",
   "metadata": {},
   "source": [
    "Значения СКФ, их абсолютная фактическая и теоретическая погрешность для $p_2(x)$"
   ]
  },
  {
   "cell_type": "code",
   "execution_count": 42,
   "metadata": {},
   "outputs": [
    {
     "name": "stdout",
     "output_type": "stream",
     "text": [
      "                                         Значение  Фактическая Погрешность  \\\n",
      "Точный интеграл              980.0000000000000000       0.0000000000000000   \n",
      "СКФ левых прямоугольников    942.8125000000000000      37.1875000000000000   \n",
      "СКФ правых прямоугольников  1017.8125000000000000      37.8125000000000000   \n",
      "СКФ средних прямоугольников  979.8437500000000000       0.1562500000000000   \n",
      "СКФ трапеций                 980.3125000000000000       0.3125000000000000   \n",
      "СКФ Симпсона                 980.0000000000000000       0.0000000000000000   \n",
      "\n",
      "                             Теоретическая Погрешность  \n",
      "Точный интеграл                     0.0000000000000000  \n",
      "СКФ левых прямоугольников          75.0000000000000000  \n",
      "СКФ правых прямоугольников         75.0000000000000000  \n",
      "СКФ средних прямоугольников         0.1562500000000000  \n",
      "СКФ трапеций                        0.3125000000000000  \n",
      "СКФ Симпсона                        0.0000000000000000  \n"
     ]
    }
   ],
   "source": [
    "getData(P2, IP2, dP2, ddP2, zero, a_, b_, n_)"
   ]
  },
  {
   "cell_type": "markdown",
   "metadata": {},
   "source": [
    "Значения СКФ, их абсолютная фактическая и теоретическая погрешность для $p_3(x)$"
   ]
  },
  {
   "cell_type": "code",
   "execution_count": 43,
   "metadata": {},
   "outputs": [
    {
     "name": "stdout",
     "output_type": "stream",
     "text": [
      "                                         Значение  Фактическая Погрешность  \\\n",
      "Точный интеграл             9100.0000000000000000       0.0000000000000000   \n",
      "СКФ левых прямоугольников   8640.9375000000000000     459.0625000000000000   \n",
      "СКФ правых прямоугольников  9570.9375000000000000     470.9375000000000000   \n",
      "СКФ средних прямоугольников 9097.0312500000000000       2.9687500000000000   \n",
      "СКФ трапеций                9105.9375000000000000       5.9375000000000000   \n",
      "СКФ Симпсона                9100.0000000000000000       0.0000000000000000   \n",
      "\n",
      "                             Теоретическая Погрешность  \n",
      "Точный интеграл                     0.0000000000000000  \n",
      "СКФ левых прямоугольников        1427.5000000000000000  \n",
      "СКФ правых прямоугольников       1427.5000000000000000  \n",
      "СКФ средних прямоугольников         6.0937500000000000  \n",
      "СКФ трапеций                       12.1875000000000000  \n",
      "СКФ Симпсона                        0.0000000000000000  \n"
     ]
    }
   ],
   "source": [
    "getData(P3, IP3, dP3, ddP3, zero, a_, b_, n_)"
   ]
  }
 ],
 "metadata": {
  "interpreter": {
   "hash": "987cbd703dfba44d9b85abc3dca62ccaba18865537b5bf4fce303cb64e6f6229"
  },
  "kernelspec": {
   "display_name": "Python 3.9.12 64-bit (windows store)",
   "language": "python",
   "name": "python3"
  },
  "language_info": {
   "codemirror_mode": {
    "name": "ipython",
    "version": 3
   },
   "file_extension": ".py",
   "mimetype": "text/x-python",
   "name": "python",
   "nbconvert_exporter": "python",
   "pygments_lexer": "ipython3",
   "version": "3.9.12"
  },
  "orig_nbformat": 4
 },
 "nbformat": 4,
 "nbformat_minor": 2
}
