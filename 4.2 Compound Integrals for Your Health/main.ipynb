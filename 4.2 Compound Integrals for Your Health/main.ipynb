{
 "cells": [
  {
   "cell_type": "markdown",
   "metadata": {},
   "source": [
    "# Задание 4.2"
   ]
  },
  {
   "cell_type": "code",
   "execution_count": 1,
   "metadata": {},
   "outputs": [],
   "source": [
    "import numpy as np\n",
    "import matplotlib.pyplot as plt\n",
    "import matplotlib.patches as ptch\n",
    "%matplotlib inline\n",
    "import pandas as pd\n",
    "import ipywidgets as widgets\n",
    "from ipywidgets import interact\n",
    "\n",
    "pd.set_option('display.max_columns', None)\n",
    "pd.set_option('display.max_rows', None)"
   ]
  },
  {
   "cell_type": "markdown",
   "metadata": {},
   "source": [
    "$f(x) = x\\sin(x)\\cos(x)$"
   ]
  },
  {
   "cell_type": "code",
   "execution_count": 2,
   "metadata": {},
   "outputs": [],
   "source": [
    "def F(x: float) -> float:\n",
    "    return x * np.cos(x) * np.sin(x)"
   ]
  },
  {
   "cell_type": "markdown",
   "metadata": {},
   "source": [
    "$f'(x) = x \\cos^2(x) + \\cos(x) \\sin(x) - x \\sin^2(x)$"
   ]
  },
  {
   "cell_type": "code",
   "execution_count": 3,
   "metadata": {},
   "outputs": [],
   "source": [
    "def dF(x: float) -> float:\n",
    "    return x * np.cos(x)**2 + np.cos(x) * np.sin(x) - x * np.sin(x)**2"
   ]
  },
  {
   "cell_type": "markdown",
   "metadata": {},
   "source": [
    "$f''(x) = 2(\\cos(2x) - x\\sin(2x))$"
   ]
  },
  {
   "cell_type": "code",
   "execution_count": 4,
   "metadata": {},
   "outputs": [],
   "source": [
    "def ddF(x: float) -> float:\n",
    "    return 2 * (np.cos(2 * x) - x * np.sin(2 * x))"
   ]
  },
  {
   "cell_type": "markdown",
   "metadata": {},
   "source": [
    "$f^{(4)}(x) = 8(x\\sin(2x) - 2\\cos(2x))$"
   ]
  },
  {
   "cell_type": "code",
   "execution_count": 5,
   "metadata": {},
   "outputs": [],
   "source": [
    "def d4F(x: float) -> float:\n",
    "    return 8 * (x * np.sin(2 * x) - 2 * np.cos(2 * x))"
   ]
  },
  {
   "cell_type": "markdown",
   "metadata": {},
   "source": [
    "$\\displaystyle\\int f(x)\\ dx = \\frac{1}{8}(\\sin(2x) - 2x\\cos(2x)) + c$"
   ]
  },
  {
   "cell_type": "code",
   "execution_count": 6,
   "metadata": {},
   "outputs": [],
   "source": [
    "def IF(x: float) -> float:\n",
    "    return (np.sin(2 * x) - 2 * x * np.cos(2 * x)) / 8"
   ]
  },
  {
   "cell_type": "markdown",
   "metadata": {},
   "source": [
    "$p_0(x) = 2$\n"
   ]
  },
  {
   "cell_type": "code",
   "execution_count": 7,
   "metadata": {},
   "outputs": [],
   "source": [
    "def P0(x: float) -> float:\n",
    "    return 2"
   ]
  },
  {
   "cell_type": "markdown",
   "metadata": {},
   "source": [
    "$\\displaystyle\\int p_0(x)\\ dx = 2x + c$ "
   ]
  },
  {
   "cell_type": "code",
   "execution_count": 8,
   "metadata": {},
   "outputs": [],
   "source": [
    "def IP0(x: float) -> float:\n",
    "    return 2 * x"
   ]
  },
  {
   "cell_type": "markdown",
   "metadata": {},
   "source": [
    "$p_1(x) = x+1$\n"
   ]
  },
  {
   "cell_type": "code",
   "execution_count": 9,
   "metadata": {},
   "outputs": [],
   "source": [
    "def P1(x: float) -> float:\n",
    "    return x + 1"
   ]
  },
  {
   "cell_type": "markdown",
   "metadata": {},
   "source": [
    "$p_1'(x) = 1$"
   ]
  },
  {
   "cell_type": "code",
   "execution_count": 10,
   "metadata": {},
   "outputs": [],
   "source": [
    "def dP1(x: float) -> float:\n",
    "    return 1"
   ]
  },
  {
   "cell_type": "markdown",
   "metadata": {},
   "source": [
    "$\\displaystyle\\int p_1(x)\\ dx = \\frac{x^2}{2} + x + c$"
   ]
  },
  {
   "cell_type": "code",
   "execution_count": 11,
   "metadata": {},
   "outputs": [],
   "source": [
    "def IP1(x: float) -> float:\n",
    "    return x ** 2 / 2 + x"
   ]
  },
  {
   "cell_type": "markdown",
   "metadata": {},
   "source": [
    "$p_2(x) = 3x^2 - 2$"
   ]
  },
  {
   "cell_type": "code",
   "execution_count": 12,
   "metadata": {},
   "outputs": [],
   "source": [
    "def P2(x: float) -> float:\n",
    "    return 3 * x ** 2 - 2"
   ]
  },
  {
   "cell_type": "markdown",
   "metadata": {},
   "source": [
    "$p_2'(x) = 6x$"
   ]
  },
  {
   "cell_type": "code",
   "execution_count": 13,
   "metadata": {},
   "outputs": [],
   "source": [
    "def dP2(x: float) -> float:\n",
    "    return 6 * x"
   ]
  },
  {
   "cell_type": "markdown",
   "metadata": {},
   "source": [
    "$p_2''(x) = 6$"
   ]
  },
  {
   "cell_type": "code",
   "execution_count": 14,
   "metadata": {},
   "outputs": [],
   "source": [
    "def ddP2(x: float) -> float:\n",
    "    return 6"
   ]
  },
  {
   "cell_type": "markdown",
   "metadata": {},
   "source": [
    "$\\displaystyle\\int p_2(x)\\ dx = x^3 - 2x + c$"
   ]
  },
  {
   "cell_type": "code",
   "execution_count": 15,
   "metadata": {},
   "outputs": [],
   "source": [
    "def IP2(x: float) -> float:\n",
    "    return x ** 3 - 2 * x"
   ]
  },
  {
   "cell_type": "markdown",
   "metadata": {},
   "source": [
    "$p_3(x) = 4x^3 - 3x^2 + 2x$"
   ]
  },
  {
   "cell_type": "code",
   "execution_count": 16,
   "metadata": {},
   "outputs": [],
   "source": [
    "def P3(x: float) -> float:\n",
    "    return 4 * x ** 3 - 3 * x ** 2 + 2 * x"
   ]
  },
  {
   "cell_type": "markdown",
   "metadata": {},
   "source": [
    "$p_3'(x) = 12x^2 - 6x + 2$"
   ]
  },
  {
   "cell_type": "code",
   "execution_count": 17,
   "metadata": {},
   "outputs": [],
   "source": [
    "def dP3(x: float) -> float:\n",
    "    return 12 * x**2 - 6 * x + 2"
   ]
  },
  {
   "cell_type": "markdown",
   "metadata": {},
   "source": [
    "$p_3''(x) = 24x - 6$"
   ]
  },
  {
   "cell_type": "code",
   "execution_count": 18,
   "metadata": {},
   "outputs": [],
   "source": [
    "def ddP3(x: float) -> float:\n",
    "    return 24 * x - 6"
   ]
  },
  {
   "cell_type": "markdown",
   "metadata": {},
   "source": [
    "$\\displaystyle\\int p_3(x)\\ dx = x^4 - x^3 + x^2$"
   ]
  },
  {
   "cell_type": "code",
   "execution_count": 19,
   "metadata": {},
   "outputs": [],
   "source": [
    "def IP3(x: float) -> float:\n",
    "    return x ** 4 - x ** 3 + x ** 2"
   ]
  },
  {
   "cell_type": "markdown",
   "metadata": {},
   "source": [
    "Составные квадратурные формулы"
   ]
  },
  {
   "cell_type": "code",
   "execution_count": 20,
   "metadata": {},
   "outputs": [],
   "source": [
    "def getSum(f, a: float, b: float, n: int) -> float:\n",
    "    h = (b - a) / n\n",
    "    return sum([f(a + i * h) for i in range(1, n)])\n",
    "\n",
    "\n",
    "def KFL(f, s: float, a: float, b: float, n: int) -> float:\n",
    "    return (f(a) + s) * (b - a) / n\n",
    "\n",
    "\n",
    "def KFR(f, s: float, a: float, b: float, n: int) -> float:\n",
    "    return (s + f(b)) * (b - a) / n\n",
    "\n",
    "\n",
    "def KFM(f, s: float, a: float, b: float, n: int) -> float:\n",
    "    h = (b - a) / n\n",
    "    return sum([f(a + i * h + h / 2) for i in range(n)]) * (b - a) / n\n",
    "\n",
    "\n",
    "def KFT(f, s: float, a: float, b: float, n: int) -> float:\n",
    "    return (f(a) + 2 * s + f(b)) * (b - a) / (2 * n)\n",
    "\n",
    "\n",
    "def KFS(f, s: float, a: float, b: float, n: int) -> float:\n",
    "    h = (b - a) / n\n",
    "    sMid = sum([f(a + (2 * i + 1) * h / 2) for i in range(n)])\n",
    "    return (f(a) + 2 * s + 4 * sMid + f(b)) * h / 6"
   ]
  },
  {
   "cell_type": "markdown",
   "metadata": {},
   "source": [
    "Функции для нахождения теоретической погрешности"
   ]
  },
  {
   "cell_type": "code",
   "execution_count": 21,
   "metadata": {},
   "outputs": [],
   "source": [
    "def zero(x: float) -> float:\n",
    "    return 0\n",
    "\n",
    "\n",
    "def RKFL(df, a: float, b: float, n: int) -> float:\n",
    "    X = np.linspace(a, b, 1000)\n",
    "    return (b - a)**2 * max([abs(df(x)) for x in X]) / (2 * n)\n",
    "\n",
    "\n",
    "def RKFR(df, a: float, b: float, n: int) -> float:\n",
    "    X = np.linspace(a, b, 1000)\n",
    "    return (b - a)**2 * max([abs(df(x)) for x in X]) / (2 * n)\n",
    "\n",
    "\n",
    "def RKFM(ddf, a: float, b: float, n: int) -> float:\n",
    "    X = np.linspace(a, b, 1000)\n",
    "    return (b - a)**3 * max([abs(ddf(x)) for x in X]) / (24 * n**2)\n",
    "\n",
    "\n",
    "def RKFT(ddf, a: float, b: float, n: int) -> float:\n",
    "    X = np.linspace(a, b, 1000)\n",
    "    return (b - a)**3 * max([abs(ddf(x)) for x in X]) / (12 * n**2)\n",
    "\n",
    "\n",
    "def RKFS(d4f, a: float, b: float, n: int) -> float:\n",
    "    X = np.linspace(a, b, 1000)\n",
    "    return (b - a)**5 * max([abs(d4f(x)) for x in X]) / (2880 * n**4)"
   ]
  },
  {
   "cell_type": "markdown",
   "metadata": {},
   "source": [
    "Элементы для вывода"
   ]
  },
  {
   "cell_type": "code",
   "execution_count": 22,
   "metadata": {},
   "outputs": [],
   "source": [
    "def printGraph(f, a: float, b: float, expected: float, n: int, name: str, res: float):\n",
    "    \n",
    "    ptsnum = 1000\n",
    "    ep = (b - a) / 8\n",
    "\n",
    "    X = np.linspace(a - ep, b + ep, ptsnum)\n",
    "    y = [f(x) for x in X]\n",
    "    Ox = [0 for _ in X]\n",
    "\n",
    "    fig, ax = plt.subplots(figsize=(20, 10))\n",
    "    ax.plot(X, y, color=\"blue\", alpha=0.5, label=f\"{f.__name__}(x)\")\n",
    "    ax.plot(X, Ox, color=\"black\")\n",
    "\n",
    "    X = [x for x in X if a <= x <= b]\n",
    "    y = [f(x) for x in X]\n",
    "    Xaxis = [0 for _ in X]\n",
    "\n",
    "    h = (b - a) / n\n",
    "\n",
    "    figures = []\n",
    "\n",
    "    if (name == \"KFL\"):\n",
    "        for i in range(n):\n",
    "            c = a + i * (b - a) / n\n",
    "            elem = ((c, 0), (c, f(c)), (c+h, f(c)), (c+h, 0))\n",
    "            figures.append(elem)\n",
    "    elif (name == \"KFR\"):\n",
    "        for i in range(n):\n",
    "            c = a + i * (b - a) / n\n",
    "            elem = ((c, 0), (c, f(c + h)), (c+h, f(c + h)), (c+h, 0))\n",
    "            figures.append(elem)\n",
    "    elif (name == \"KFM\"):\n",
    "        for i in range(n):\n",
    "            c = a + i * (b - a) / n\n",
    "            elem = ((c, 0), (c, f(c + h / 2)), (c+h, f(c + h / 2)), (c+h, 0))\n",
    "            figures.append(elem)\n",
    "    elif (name == \"KFT\"):\n",
    "        for i in range(n):\n",
    "            c = a + i * (b - a) / n\n",
    "            elem = ((c, 0), (c, f(c)), (c+h, f(c + h)), (c+h, 0))\n",
    "            figures.append(elem)\n",
    "\n",
    "    ax.add_patch(ptch.Polygon(figures[0], edgecolor=\"#1207ff\", facecolor=\"#1207ff\", \n",
    "                                        fill=True, alpha=0.2, label=f\"{round(res, 3)}\"))       \n",
    "\n",
    "    figures.remove(figures[0])\n",
    "    \n",
    "    [ax.add_patch(ptch.Polygon(figure, edgecolor=\"#1207ff\", facecolor=\"#1207ff\", \n",
    "                                        fill=True, alpha=0.2)) for figure in figures]\n",
    "\n",
    "    ax.fill_between(X, Xaxis, y, facecolor=\"red\", alpha=0.2, label=f\"{round(expected, 3)}\")\n",
    "    ax.vlines(a, min(f(a), 0), max(f(a), 0), color=\"blue\", alpha=0.2, linestyle=\"--\")\n",
    "    ax.vlines(b, min(f(b), 0), max(f(b), 0), color=\"blue\", alpha=0.2, linestyle=\"--\")\n",
    "    ax.set_xlabel(\"x\")\n",
    "    ax.set_ylabel(\"y\")\n",
    "    ax.legend()\n",
    "\n",
    "    plt.show()\n",
    "\n",
    "\n",
    "def getGraph(f, If, formula, a: float, b: float, n: int):\n",
    "    Sum = getSum(f, a, b, n)\n",
    "    Res = formula(f, Sum, a, b, n)\n",
    "    Expected = If(b) - If(a)\n",
    "    printGraph(f, a, b, Expected, n, formula.__name__, Res)\n",
    "\n",
    "\n",
    "def getGraphInteract(f, If, formula, a, b, n__):\n",
    "    def graph_(n=n__):\n",
    "        return getGraph(f, If, formula, a, b, n)\n",
    "    return graph_\n",
    "\n",
    "\n",
    "def getData(f, If, df, ddf, d4f, a: float, b: float, n: int):\n",
    "    Sum = getSum(f, a, b, n)\n",
    "    Expected = If(b) - If(a)\n",
    "    Results = np.array([If(b) - If(a), KFL(f, Sum, a, b, n), KFR(f, Sum, a, b, n), \n",
    "                        KFM(f, Sum, a, b, n), KFT(f, Sum, a, b, n), KFS(f, Sum, a, b, n)])\n",
    "    R = np.array([0, RKFL(df, a, b, n), RKFR(df, a, b, n), RKFM(ddf, a, b, n), RKFT(ddf, a, b, n), RKFS(d4f, a, b, n)])\n",
    "    data = {\n",
    "        \"Значение\": Results,\n",
    "        \"Факт. Погр.\": np.array([abs(Expected - result) for result in Results]),\n",
    "        \"Теор. Погр.\": R\n",
    "    }\n",
    "    df = pd.DataFrame(data, index=[\"Точный интеграл\", \"СКФ левых прямоугольников\", \n",
    "                        \"СКФ правых прямоугольников\", \"СКФ средних прямоугольников\",\n",
    "                        \"СКФ трапеций\", \"СКФ Симпсона\"])\n",
    "    print(df)\n"
   ]
  },
  {
   "cell_type": "markdown",
   "metadata": {},
   "source": [
    "Входные данные:"
   ]
  },
  {
   "cell_type": "code",
   "execution_count": 23,
   "metadata": {},
   "outputs": [
    {
     "data": {
      "application/vnd.jupyter.widget-view+json": {
       "model_id": "f02107feb945416a9cc9882642c2f7fa",
       "version_major": 2,
       "version_minor": 0
      },
      "text/plain": [
       "FloatText(value=-6.0, description='a: ')"
      ]
     },
     "metadata": {},
     "output_type": "display_data"
    },
    {
     "data": {
      "application/vnd.jupyter.widget-view+json": {
       "model_id": "3ad2b79d93ab4ec6b55310600e0f62c6",
       "version_major": 2,
       "version_minor": 0
      },
      "text/plain": [
       "FloatText(value=6.0, description='b: ')"
      ]
     },
     "metadata": {},
     "output_type": "display_data"
    },
    {
     "data": {
      "application/vnd.jupyter.widget-view+json": {
       "model_id": "412a7f27521644bdbb7a3910ac281177",
       "version_major": 2,
       "version_minor": 0
      },
      "text/plain": [
       "IntText(value=20, description='n: ')"
      ]
     },
     "metadata": {},
     "output_type": "display_data"
    }
   ],
   "source": [
    "promptA = widgets.FloatText(\n",
    "    value=-6,\n",
    "    description='a: ',\n",
    "    disabled=False\n",
    ")\n",
    "promptB = widgets.FloatText(\n",
    "    value=6,\n",
    "    description='b: ',\n",
    "    disabled=False\n",
    ")\n",
    "promptN = widgets.IntText(\n",
    "    value=20,\n",
    "    description='n: ',\n",
    "    disabled=False\n",
    ")\n",
    "display(promptA)\n",
    "display(promptB)\n",
    "display(promptN)"
   ]
  },
  {
   "cell_type": "code",
   "execution_count": 39,
   "metadata": {},
   "outputs": [
    {
     "name": "stdout",
     "output_type": "stream",
     "text": [
      "a: -1.0\n",
      "b: 10.0\n",
      "n: 40\n"
     ]
    }
   ],
   "source": [
    "a_ = promptA.value\n",
    "b_ = promptB.value\n",
    "n_ = promptN.value\n",
    "print(f\"a: {a_}\\nb: {b_}\\nn: {n_}\")"
   ]
  },
  {
   "cell_type": "markdown",
   "metadata": {},
   "source": [
    "Визуализация СКФ левых прямоугольников для $f(x)$"
   ]
  },
  {
   "cell_type": "code",
   "execution_count": 40,
   "metadata": {},
   "outputs": [
    {
     "data": {
      "application/vnd.jupyter.widget-view+json": {
       "model_id": "e589a349d6674c8dad746df43dc42ca3",
       "version_major": 2,
       "version_minor": 0
      },
      "text/plain": [
       "interactive(children=(IntSlider(value=40, description='n', max=80, min=2), Output()), _dom_classes=('widget-in…"
      ]
     },
     "metadata": {},
     "output_type": "display_data"
    },
    {
     "data": {
      "text/plain": [
       "<function __main__.getGraphInteract.<locals>.graph_(n=40)>"
      ]
     },
     "execution_count": 40,
     "metadata": {},
     "output_type": "execute_result"
    }
   ],
   "source": [
    "graph = getGraphInteract(F, IF, KFL, a_, b_, n_)\n",
    "interact(graph, n=(2, n_ * 2, 1)) \n",
    " "
   ]
  },
  {
   "cell_type": "markdown",
   "metadata": {},
   "source": [
    "Визуализация СКФ правых прямоугольников для $f(x)$"
   ]
  },
  {
   "cell_type": "code",
   "execution_count": 41,
   "metadata": {},
   "outputs": [
    {
     "data": {
      "application/vnd.jupyter.widget-view+json": {
       "model_id": "7dbf4e3a06c448b3b8998f3f0eb1b4e6",
       "version_major": 2,
       "version_minor": 0
      },
      "text/plain": [
       "interactive(children=(IntSlider(value=40, description='n', max=80, min=2), Output()), _dom_classes=('widget-in…"
      ]
     },
     "metadata": {},
     "output_type": "display_data"
    },
    {
     "data": {
      "text/plain": [
       "<function __main__.getGraphInteract.<locals>.graph_(n=40)>"
      ]
     },
     "execution_count": 41,
     "metadata": {},
     "output_type": "execute_result"
    }
   ],
   "source": [
    "graph = getGraphInteract(F, IF, KFR, a_, b_, n_)\n",
    "interact(graph, n=(2, n_ * 2, 1)) "
   ]
  },
  {
   "cell_type": "markdown",
   "metadata": {},
   "source": [
    "Визуализация СКФ средних прямоугольников для $f(x)$"
   ]
  },
  {
   "cell_type": "code",
   "execution_count": 42,
   "metadata": {},
   "outputs": [
    {
     "data": {
      "application/vnd.jupyter.widget-view+json": {
       "model_id": "50cb650060244a488c692a98c7f02de3",
       "version_major": 2,
       "version_minor": 0
      },
      "text/plain": [
       "interactive(children=(IntSlider(value=40, description='n', max=80, min=2), Output()), _dom_classes=('widget-in…"
      ]
     },
     "metadata": {},
     "output_type": "display_data"
    },
    {
     "data": {
      "text/plain": [
       "<function __main__.getGraphInteract.<locals>.graph_(n=40)>"
      ]
     },
     "execution_count": 42,
     "metadata": {},
     "output_type": "execute_result"
    }
   ],
   "source": [
    "graph = getGraphInteract(F, IF, KFM, a_, b_, n_)\n",
    "interact(graph, n=(2, n_ * 2, 1)) "
   ]
  },
  {
   "cell_type": "markdown",
   "metadata": {},
   "source": [
    "Визуализация СКФ трапеций для $f(x)$"
   ]
  },
  {
   "cell_type": "code",
   "execution_count": 43,
   "metadata": {},
   "outputs": [
    {
     "data": {
      "application/vnd.jupyter.widget-view+json": {
       "model_id": "2098627627fc466fa609f525e4db929c",
       "version_major": 2,
       "version_minor": 0
      },
      "text/plain": [
       "interactive(children=(IntSlider(value=40, description='n', max=80, min=2), Output()), _dom_classes=('widget-in…"
      ]
     },
     "metadata": {},
     "output_type": "display_data"
    },
    {
     "data": {
      "text/plain": [
       "<function __main__.getGraphInteract.<locals>.graph_(n=40)>"
      ]
     },
     "execution_count": 43,
     "metadata": {},
     "output_type": "execute_result"
    }
   ],
   "source": [
    "graph = getGraphInteract(F, IF, KFT, a_, b_, n_)\n",
    "interact(graph, n=(2, n_ * 2, 1)) "
   ]
  },
  {
   "cell_type": "markdown",
   "metadata": {},
   "source": [
    "Значения СКФ, их абсолютная фактическая и теоретическая погрешность для $f(x)$"
   ]
  },
  {
   "cell_type": "code",
   "execution_count": 44,
   "metadata": {},
   "outputs": [
    {
     "name": "stdout",
     "output_type": "stream",
     "text": [
      "                             Значение  Факт. Погр.  Теор. Погр.\n",
      "Точный интеграл             -0.688388     0.000000     0.000000\n",
      "СКФ левых прямоугольников   -1.224482     0.536093    14.333931\n",
      "СКФ правых прямоугольников  -0.094210     0.594178    14.333931\n",
      "СКФ средних прямоугольников -0.702986     0.014598     0.607805\n",
      "СКФ трапеций                -0.659346     0.029042     1.215611\n",
      "СКФ Симпсона                -0.688440     0.000051     0.001571\n"
     ]
    }
   ],
   "source": [
    "getData(F, IF, dF, ddF, d4F, a_, b_, n_)"
   ]
  },
  {
   "cell_type": "markdown",
   "metadata": {},
   "source": [
    "Значения СКФ, их абсолютная фактическая и теоретическая погрешность для $p_0(x)$"
   ]
  },
  {
   "cell_type": "code",
   "execution_count": 45,
   "metadata": {},
   "outputs": [
    {
     "name": "stdout",
     "output_type": "stream",
     "text": [
      "                             Значение  Факт. Погр.  Теор. Погр.\n",
      "Точный интеграл                  22.0          0.0          0.0\n",
      "СКФ левых прямоугольников        22.0          0.0          0.0\n",
      "СКФ правых прямоугольников       22.0          0.0          0.0\n",
      "СКФ средних прямоугольников      22.0          0.0          0.0\n",
      "СКФ трапеций                     22.0          0.0          0.0\n",
      "СКФ Симпсона                     22.0          0.0          0.0\n"
     ]
    }
   ],
   "source": [
    "getData(P0, IP0, zero, zero, zero, a_, b_, n_)"
   ]
  },
  {
   "cell_type": "markdown",
   "metadata": {},
   "source": [
    "Значения СКФ, их абсолютная фактическая и теоретическая погрешность для $p_1(x)$"
   ]
  },
  {
   "cell_type": "code",
   "execution_count": 31,
   "metadata": {},
   "outputs": [
    {
     "name": "stdout",
     "output_type": "stream",
     "text": [
      "                             Значение   Факт. Погр.  Теор. Погр.\n",
      "Точный интеграл                  12.0  0.000000e+00          0.0\n",
      "СКФ левых прямоугольников         8.4  3.600000e+00          3.6\n",
      "СКФ правых прямоугольников       15.6  3.600000e+00          3.6\n",
      "СКФ средних прямоугольников      12.0  3.552714e-15          0.0\n",
      "СКФ трапеций                     12.0  3.552714e-15          0.0\n",
      "СКФ Симпсона                     12.0  1.776357e-15          0.0\n"
     ]
    }
   ],
   "source": [
    "getData(P1, IP1, dP1, zero, zero, a_, b_, n_)"
   ]
  },
  {
   "cell_type": "markdown",
   "metadata": {},
   "source": [
    "Значения СКФ, их абсолютная фактическая и теоретическая погрешность для $p_2(x)$"
   ]
  },
  {
   "cell_type": "code",
   "execution_count": 32,
   "metadata": {},
   "outputs": [
    {
     "name": "stdout",
     "output_type": "stream",
     "text": [
      "                             Значение  Факт. Погр.  Теор. Погр.\n",
      "Точный интеграл                408.00         0.00         0.00\n",
      "СКФ левых прямоугольников      410.16         2.16       129.60\n",
      "СКФ правых прямоугольников     410.16         2.16       129.60\n",
      "СКФ средних прямоугольников    406.92         1.08         1.08\n",
      "СКФ трапеций                   410.16         2.16         2.16\n",
      "СКФ Симпсона                   408.00         0.00         0.00\n"
     ]
    }
   ],
   "source": [
    "getData(P2, IP2, dP2, ddP2, zero, a_, b_, n_)"
   ]
  },
  {
   "cell_type": "markdown",
   "metadata": {},
   "source": [
    "Значения СКФ, их абсолютная фактическая и теоретическая погрешность для $p_3(x)$"
   ]
  },
  {
   "cell_type": "code",
   "execution_count": 33,
   "metadata": {},
   "outputs": [
    {
     "name": "stdout",
     "output_type": "stream",
     "text": [
      "                             Значение   Факт. Погр.  Теор. Погр.\n",
      "Точный интеграл               -432.00  0.000000e+00          0.0\n",
      "СКФ левых прямоугольников     -959.76  5.277600e+02       1692.0\n",
      "СКФ правых прямоугольников      91.44  5.234400e+02       1692.0\n",
      "СКФ средних прямоугольников   -430.92  1.080000e+00         27.0\n",
      "СКФ трапеций                  -434.16  2.160000e+00         54.0\n",
      "СКФ Симпсона                  -432.00  5.115908e-13          0.0\n"
     ]
    }
   ],
   "source": [
    "getData(P3, IP3, dP3, ddP3, zero, a_, b_, n_)"
   ]
  },
  {
   "cell_type": "markdown",
   "metadata": {},
   "source": [
    "# Задание 4.3\n"
   ]
  },
  {
   "cell_type": "code",
   "execution_count": 34,
   "metadata": {},
   "outputs": [
    {
     "data": {
      "application/vnd.jupyter.widget-view+json": {
       "model_id": "0761b7c4cf8a40ea93348d504ef91af8",
       "version_major": 2,
       "version_minor": 0
      },
      "text/plain": [
       "FloatText(value=-6.0, description='a: ')"
      ]
     },
     "metadata": {},
     "output_type": "display_data"
    },
    {
     "data": {
      "application/vnd.jupyter.widget-view+json": {
       "model_id": "714ecd0b379145e99855f65571490a32",
       "version_major": 2,
       "version_minor": 0
      },
      "text/plain": [
       "FloatText(value=6.0, description='b: ')"
      ]
     },
     "metadata": {},
     "output_type": "display_data"
    },
    {
     "data": {
      "application/vnd.jupyter.widget-view+json": {
       "model_id": "f1c94062ee504901a073cd1041bd1d11",
       "version_major": 2,
       "version_minor": 0
      },
      "text/plain": [
       "IntText(value=100000, description='n: ')"
      ]
     },
     "metadata": {},
     "output_type": "display_data"
    },
    {
     "data": {
      "application/vnd.jupyter.widget-view+json": {
       "model_id": "727921fd624447829ce51def673bf159",
       "version_major": 2,
       "version_minor": 0
      },
      "text/plain": [
       "IntText(value=2, description='l: ')"
      ]
     },
     "metadata": {},
     "output_type": "display_data"
    }
   ],
   "source": [
    "promptA_ = widgets.FloatText(\n",
    "    value=-6,\n",
    "    description='a: ',\n",
    "    disabled=False\n",
    ")\n",
    "promptB_ = widgets.FloatText(\n",
    "    value=6,\n",
    "    description='b: ',\n",
    "    disabled=False\n",
    ")\n",
    "promptN_ = widgets.IntText(\n",
    "    value=100000,\n",
    "    description='n: ',\n",
    "    disabled=False\n",
    ")\n",
    "promptL_ = widgets.IntText(\n",
    "    value=2,\n",
    "    description='l: ',\n",
    "    disabled=False\n",
    ")\n",
    "display(promptA_)\n",
    "display(promptB_)\n",
    "display(promptN_)\n",
    "display(promptL_)"
   ]
  },
  {
   "cell_type": "code",
   "execution_count": 35,
   "metadata": {},
   "outputs": [
    {
     "name": "stdout",
     "output_type": "stream",
     "text": [
      "a: -6.0\n",
      "b: 6.0\n",
      "n: 100000\n",
      "l: 2\n"
     ]
    }
   ],
   "source": [
    "a__ = promptA_.value\n",
    "b__ = promptB_.value\n",
    "n__ = promptN_.value\n",
    "l__ = promptL_.value\n",
    "print(f\"a: {a__}\\nb: {b__}\\nn: {n__}\\nl: {l__}\")"
   ]
  },
  {
   "cell_type": "markdown",
   "metadata": {},
   "source": [
    "Формула Рунге"
   ]
  },
  {
   "cell_type": "code",
   "execution_count": 36,
   "metadata": {},
   "outputs": [],
   "source": [
    "def Runge(f, formula, d: int, a: float, b: float, n: int, l: int) -> float:\n",
    "    r = d + 1\n",
    "    s = getSum(f, a, b, n)\n",
    "    sL = getSum(f, a, b, n * l)\n",
    "    return (l**r * formula(f, sL, a, b, n * l) - formula(f, s, a, b, n)) / (l**r - 1)"
   ]
  },
  {
   "cell_type": "markdown",
   "metadata": {},
   "source": [
    "Функции для вывода"
   ]
  },
  {
   "cell_type": "code",
   "execution_count": 37,
   "metadata": {},
   "outputs": [],
   "source": [
    "def getDataRunge(f, If, a: float, b: float, n: int, l: int):\n",
    "    Sum = getSum(f, a, b, n)\n",
    "    SumL = getSum(f, a, b, n * l)\n",
    "    Expected = If(b) - If(a)\n",
    "    ResultsN = np.array([If(b) - If(a), KFL(f, Sum, a, b, n), KFR(f, Sum, a, b, n), \n",
    "                        KFM(f, Sum, a, b, n), KFT(f, Sum, a, b, n), KFS(f, Sum, a, b, n)])\n",
    "    ResultsNL = np.array([If(b) - If(a), KFL(f, SumL, a, b, n * l), KFR(f, SumL, a, b, n * l), \n",
    "                        KFM(f, SumL, a, b, n * l), KFT(f, SumL, a, b, n * l), KFS(f, SumL, a, b, n * l)])\n",
    "    Runges = np.array([If(b) - If(a), Runge(f, KFL, 0, a, b, n, l), Runge(f, KFR, 0, a, b, n, l), \n",
    "                        Runge(f, KFM, 1, a, b, n, l), Runge(f, KFT, 1, a, b, n, l), Runge(f, KFS, 3, a, b, n, l)])\n",
    "    data = {\n",
    "        \"Значение для n\": ResultsN,\n",
    "        \"Погр. для n\": np.array([abs(Expected - result) for result in ResultsN]),\n",
    "        \"Значение для n*l\": ResultsNL,\n",
    "        \"Погр. для n * l\": np.array([abs(Expected - result) for result in ResultsNL]),\n",
    "        \"Уточн. знач.\": Runges,\n",
    "        \"Погр. для уточн. знач.\": np.array([abs(Expected - result) for result in Runges]),\n",
    "    }\n",
    "    df = pd.DataFrame(data, index=[\"Точный интеграл\", \"СКФ левых прямоугольников\", \n",
    "                        \"СКФ правых прямоугольников\", \"СКФ средних прямоугольников\",\n",
    "                        \"СКФ трапеций\", \"СКФ Симпсона\"])\n",
    "    print(df)\n"
   ]
  },
  {
   "cell_type": "markdown",
   "metadata": {},
   "source": [
    "Результаты для $f(x)$"
   ]
  },
  {
   "cell_type": "code",
   "execution_count": 38,
   "metadata": {},
   "outputs": [
    {
     "name": "stdout",
     "output_type": "stream",
     "text": [
      "                             Значение для n   Погр. для n  Значение для n*l  \\\n",
      "Точный интеграл                   -2.665705  0.000000e+00         -2.665705   \n",
      "СКФ левых прямоугольников         -2.665705  1.150759e-08         -2.665705   \n",
      "СКФ правых прямоугольников        -2.665705  1.150759e-08         -2.665705   \n",
      "СКФ средних прямоугольников       -2.665705  5.753786e-09         -2.665705   \n",
      "СКФ трапеций                      -2.665705  1.150759e-08         -2.665705   \n",
      "СКФ Симпсона                      -2.665705  3.552714e-15         -2.665705   \n",
      "\n",
      "                             Погр. для n * l  Уточн. знач.  \\\n",
      "Точный интеграл                 0.000000e+00     -2.665705   \n",
      "СКФ левых прямоугольников       2.876936e-09     -2.665705   \n",
      "СКФ правых прямоугольников      2.876936e-09     -2.665705   \n",
      "СКФ средних прямоугольников     1.438437e-09     -2.665705   \n",
      "СКФ трапеций                    2.876936e-09     -2.665705   \n",
      "СКФ Симпсона                    1.909584e-14     -2.665705   \n",
      "\n",
      "                             Погр. для уточн. знач.  \n",
      "Точный интеграл                        0.000000e+00  \n",
      "СКФ левых прямоугольников              5.753714e-09  \n",
      "СКФ правых прямоугольников             5.753714e-09  \n",
      "СКФ средних прямоугольников            1.287859e-14  \n",
      "СКФ трапеций                           5.284662e-14  \n",
      "СКФ Симпсона                           2.042810e-14  \n"
     ]
    }
   ],
   "source": [
    "getDataRunge(F, IF, a__, b__, n__, l__)"
   ]
  }
 ],
 "metadata": {
  "interpreter": {
   "hash": "987cbd703dfba44d9b85abc3dca62ccaba18865537b5bf4fce303cb64e6f6229"
  },
  "kernelspec": {
   "display_name": "Python 3.9.12 64-bit (windows store)",
   "language": "python",
   "name": "python3"
  },
  "language_info": {
   "codemirror_mode": {
    "name": "ipython",
    "version": 3
   },
   "file_extension": ".py",
   "mimetype": "text/x-python",
   "name": "python",
   "nbconvert_exporter": "python",
   "pygments_lexer": "ipython3",
   "version": "3.9.12"
  },
  "orig_nbformat": 4
 },
 "nbformat": 4,
 "nbformat_minor": 2
}
