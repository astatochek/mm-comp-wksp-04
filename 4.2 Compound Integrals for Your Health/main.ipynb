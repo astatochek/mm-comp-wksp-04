{
 "cells": [
  {
   "cell_type": "code",
   "execution_count": 628,
   "metadata": {},
   "outputs": [],
   "source": [
    "import numpy as np\n",
    "import matplotlib.pyplot as plt\n",
    "import matplotlib.patches as ptch\n",
    "%matplotlib inline\n",
    "import pandas as pd\n",
    "import ipywidgets as widgets\n",
    "from ipywidgets import interact\n",
    "\n",
    "pd.set_option('display.max_columns', None)\n",
    "pd.set_option('display.max_rows', None)\n",
    "pd.options.display.float_format = '{:.16f}'.format"
   ]
  },
  {
   "cell_type": "markdown",
   "metadata": {},
   "source": [
    "$f(x) = x\\sin(x)\\cos(x)$"
   ]
  },
  {
   "cell_type": "code",
   "execution_count": 629,
   "metadata": {},
   "outputs": [],
   "source": [
    "def F(x: float) -> float:\n",
    "    return x * np.cos(x) * np.sin(x)"
   ]
  },
  {
   "cell_type": "markdown",
   "metadata": {},
   "source": [
    "$\\displaystyle\\int f(x)\\ dx = \\frac{1}{8}(\\sin(2x) - 2x\\cos(2x)) + c$"
   ]
  },
  {
   "cell_type": "code",
   "execution_count": 630,
   "metadata": {},
   "outputs": [],
   "source": [
    "def IF(x: float) -> float:\n",
    "    return (np.sin(2 * x) - 2 * x * np.cos(2 * x)) / 8"
   ]
  },
  {
   "cell_type": "markdown",
   "metadata": {},
   "source": [
    "$p_0(x) = 2$\n"
   ]
  },
  {
   "cell_type": "code",
   "execution_count": 631,
   "metadata": {},
   "outputs": [],
   "source": [
    "def P0(x: float) -> float:\n",
    "    return 2"
   ]
  },
  {
   "cell_type": "markdown",
   "metadata": {},
   "source": [
    "$\\displaystyle\\int p_0(x)\\ dx = 2x + c$ "
   ]
  },
  {
   "cell_type": "code",
   "execution_count": 632,
   "metadata": {},
   "outputs": [],
   "source": [
    "def IP0(x: float) -> float:\n",
    "    return 2 * x"
   ]
  },
  {
   "cell_type": "markdown",
   "metadata": {},
   "source": [
    "$p_1(x) = x+1$\n"
   ]
  },
  {
   "cell_type": "code",
   "execution_count": 633,
   "metadata": {},
   "outputs": [],
   "source": [
    "def P1(x: float) -> float:\n",
    "    return x + 1"
   ]
  },
  {
   "cell_type": "markdown",
   "metadata": {},
   "source": [
    "$\\displaystyle\\int p_1(x)\\ dx = \\frac{x^2}{2} + x + c$"
   ]
  },
  {
   "cell_type": "code",
   "execution_count": 634,
   "metadata": {},
   "outputs": [],
   "source": [
    "def IP1(x: float) -> float:\n",
    "    return x ** 2 / 2 + x"
   ]
  },
  {
   "cell_type": "markdown",
   "metadata": {},
   "source": [
    "$p_2(x) = 3x^2 - 2$"
   ]
  },
  {
   "cell_type": "code",
   "execution_count": 635,
   "metadata": {},
   "outputs": [],
   "source": [
    "def P2(x: float) -> float:\n",
    "    return 3 * x ** 2 - 2"
   ]
  },
  {
   "cell_type": "markdown",
   "metadata": {},
   "source": [
    "$\\displaystyle\\int p_2(x)\\ dx = x^3 - 2x + c$"
   ]
  },
  {
   "cell_type": "code",
   "execution_count": 636,
   "metadata": {},
   "outputs": [],
   "source": [
    "def IP2(x: float) -> float:\n",
    "    return x ** 3 - 2 * x"
   ]
  },
  {
   "cell_type": "markdown",
   "metadata": {},
   "source": [
    "$p_3(x) = 4x^3 - 3x^2 + 2x$"
   ]
  },
  {
   "cell_type": "code",
   "execution_count": 637,
   "metadata": {},
   "outputs": [],
   "source": [
    "def P3(x: float) -> float:\n",
    "    return 4 * x ** 3 - 3 * x ** 2 + 2 * x"
   ]
  },
  {
   "cell_type": "markdown",
   "metadata": {},
   "source": [
    "$\\displaystyle\\int p_3(x)\\ dx = x^4 - x^3 + x^2$"
   ]
  },
  {
   "cell_type": "code",
   "execution_count": 638,
   "metadata": {},
   "outputs": [],
   "source": [
    "def IP3(x: float) -> float:\n",
    "    return x ** 4 - x ** 3 + x ** 2"
   ]
  },
  {
   "cell_type": "markdown",
   "metadata": {},
   "source": [
    "Адаптированные квадратурные формулы"
   ]
  },
  {
   "cell_type": "code",
   "execution_count": 639,
   "metadata": {},
   "outputs": [],
   "source": [
    "def getSum(f, a: float, b: float, n: int) -> float:\n",
    "    h = (b - a) / n\n",
    "    return sum([f(a + i * h) for i in range(1, n)])\n",
    "\n",
    "\n",
    "def KFL(f, s: float, a: float, b: float, n: int) -> float:\n",
    "    return (f(a) + s) * (b - a) / n\n",
    "\n",
    "\n",
    "def KFR(f, s: float, a: float, b: float, n: int) -> float:\n",
    "    return (s + f(b)) * (b - a) / n\n",
    "\n",
    "\n",
    "def KFM(f, s: float, a: float, b: float, n: int) -> float:\n",
    "    h = (b - a) / n\n",
    "    return sum([f(a + i * h + h / 2) for i in range(n)]) * (b - a) / n\n",
    "\n",
    "\n",
    "def KFT(f, s: float, a: float, b: float, n: int) -> float:\n",
    "    return (f(a) + 2 * s + f(b)) * (b - a) / (2 * n)\n",
    "\n",
    "\n",
    "def KFS(f, s: float, a: float, b: float, n: int) -> float:\n",
    "    h = (b - a) / n\n",
    "    sMid = sum([f(a + (2 * i + 1) * h / 2) for i in range(n)])\n",
    "    return (f(a) + 2 * s + 4 * sMid + f(b)) * h / 6"
   ]
  },
  {
   "cell_type": "markdown",
   "metadata": {},
   "source": [
    "Элементы для вывода"
   ]
  },
  {
   "cell_type": "code",
   "execution_count": 640,
   "metadata": {},
   "outputs": [],
   "source": [
    "def printGraph(f, a: float, b: float, expected: float, n: int, name: str, res: float):\n",
    "    \n",
    "    ptsnum = 1000\n",
    "    ep = (b - a) / 8\n",
    "\n",
    "    X = np.linspace(a - ep, b + ep, ptsnum)\n",
    "    y = [f(x) for x in X]\n",
    "    Ox = [0 for _ in X]\n",
    "\n",
    "    fig, ax = plt.subplots()\n",
    "    ax.plot(X, y, color=\"blue\", alpha=0.5, label=f\"{f.__name__}(x)\")\n",
    "    ax.plot(X, Ox, color=\"black\")\n",
    "\n",
    "    X = [x for x in X if a <= x <= b]\n",
    "    y = [f(x) for x in X]\n",
    "    Xaxis = [0 for _ in X]\n",
    "\n",
    "    h = (b - a) / n\n",
    "\n",
    "    figures = []\n",
    "\n",
    "    if (name == \"KFL\"):\n",
    "        for i in range(n):\n",
    "            c = a + i * (b - a) / n\n",
    "            elem = ((c, 0), (c, f(c)), (c+h, f(c)), (c+h, 0))\n",
    "            figures.append(elem)\n",
    "    elif (name == \"KFR\"):\n",
    "        for i in range(n):\n",
    "            c = a + i * (b - a) / n\n",
    "            elem = ((c, 0), (c, f(c + h)), (c+h, f(c + h)), (c+h, 0))\n",
    "            figures.append(elem)\n",
    "    elif (name == \"KFM\"):\n",
    "        for i in range(n):\n",
    "            c = a + i * (b - a) / n\n",
    "            elem = ((c, 0), (c, f(c + h / 2)), (c+h, f(c + h / 2)), (c+h, 0))\n",
    "            figures.append(elem)\n",
    "    elif (name == \"KFT\"):\n",
    "        for i in range(n):\n",
    "            c = a + i * (b - a) / n\n",
    "            elem = ((c, 0), (c, f(c)), (c+h, f(c + h)), (c+h, 0))\n",
    "            figures.append(elem)\n",
    "\n",
    "    ax.add_patch(ptch.Polygon(figures[0], edgecolor=\"#1207ff\", facecolor=\"#1207ff\", \n",
    "                                        fill=True, alpha=0.2, label=f\"{round(res, 3)}\"))       \n",
    "\n",
    "    figures.remove(figures[0])\n",
    "    \n",
    "    [ax.add_patch(ptch.Polygon(figure, edgecolor=\"#1207ff\", facecolor=\"#1207ff\", \n",
    "                                        fill=True, alpha=0.2)) for figure in figures]\n",
    "\n",
    "    ax.fill_between(X, Xaxis, y, facecolor=\"red\", alpha=0.2, label=f\"{round(expected, 3)}\")\n",
    "    ax.vlines(a, min(f(a), 0), max(f(a), 0), color=\"blue\", alpha=0.2, linestyle=\"--\")\n",
    "    ax.vlines(b, min(f(b), 0), max(f(b), 0), color=\"blue\", alpha=0.2, linestyle=\"--\")\n",
    "    ax.set_xlabel(\"x\")\n",
    "    ax.set_ylabel(\"y\")\n",
    "    ax.legend()\n",
    "\n",
    "    plt.show()\n",
    "\n",
    "\n",
    "def getGraph(f, If, formula, a: float, b: float, n: int):\n",
    "    Sum = getSum(f, a, b, n)\n",
    "    Res = formula(f, Sum, a, b, n)\n",
    "    Expected = If(b) - If(a)\n",
    "    printGraph(f, a, b, Expected, n, formula.__name__, Res)\n",
    "\n",
    "\n",
    "def getGraphInteract(f, If, formula, a, b, n__):\n",
    "    def graph_(n=n__):\n",
    "        return getGraph(f, If, formula, a, b, n)\n",
    "    return graph_\n",
    "\n",
    "\n",
    "def getData(f, If, a: float, b: float, n: int):\n",
    "    Sum = getSum(f, a, b, n)\n",
    "    Expected = If(b) - If(a)\n",
    "    Results = [If(b) - If(a), KFL(f, Sum, a, b, n), KFR(f, Sum, a, b, n), \n",
    "                        KFM(f, Sum, a, b, n), KFT(f, Sum, a, b, n), KFS(f, Sum, a, b, n)]\n",
    "    data = {\n",
    "        \"Значение\": Results,\n",
    "        \"Погрешность\": [abs(Expected - result) for result in Results]\n",
    "    }\n",
    "    df = pd.DataFrame(data, index=[\"Значение интеграла\", \"СКФ левых прямоугольников\", \n",
    "                        \"СКФ правых прямоугольников\", \"СКФ средних прямоугольников\",\n",
    "                        \"СКФ трапеций\", \"СКФ Симпсона\"])\n",
    "    print(df)\n"
   ]
  },
  {
   "cell_type": "markdown",
   "metadata": {},
   "source": [
    "Входные данные:"
   ]
  },
  {
   "cell_type": "code",
   "execution_count": 671,
   "metadata": {},
   "outputs": [
    {
     "data": {
      "application/vnd.jupyter.widget-view+json": {
       "model_id": "8707a4fba4024858930884d800c345f3",
       "version_major": 2,
       "version_minor": 0
      },
      "text/plain": [
       "FloatText(value=-6.0, description='a: ')"
      ]
     },
     "metadata": {},
     "output_type": "display_data"
    },
    {
     "data": {
      "application/vnd.jupyter.widget-view+json": {
       "model_id": "428237e2a0194f25aa5b96f0ba18b5c9",
       "version_major": 2,
       "version_minor": 0
      },
      "text/plain": [
       "FloatText(value=6.0, description='b: ')"
      ]
     },
     "metadata": {},
     "output_type": "display_data"
    },
    {
     "data": {
      "application/vnd.jupyter.widget-view+json": {
       "model_id": "c1a134420f9c45d19dac780cb6ecb091",
       "version_major": 2,
       "version_minor": 0
      },
      "text/plain": [
       "IntText(value=20, description='n: ')"
      ]
     },
     "metadata": {},
     "output_type": "display_data"
    }
   ],
   "source": [
    "promptA = widgets.FloatText(\n",
    "    value=-6,\n",
    "    description='a: ',\n",
    "    disabled=False\n",
    ")\n",
    "promptB = widgets.FloatText(\n",
    "    value=6,\n",
    "    description='b: ',\n",
    "    disabled=False\n",
    ")\n",
    "promptN = widgets.IntText(\n",
    "    value=20,\n",
    "    description='n: ',\n",
    "    disabled=False\n",
    ")\n",
    "display(promptA)\n",
    "display(promptB)\n",
    "display(promptN)"
   ]
  },
  {
   "cell_type": "code",
   "execution_count": 672,
   "metadata": {},
   "outputs": [
    {
     "name": "stdout",
     "output_type": "stream",
     "text": [
      "a: -10.0\n",
      "b: 10.0\n",
      "n: 20\n"
     ]
    }
   ],
   "source": [
    "a_ = promptA.value\n",
    "b_ = promptB.value\n",
    "n_ = promptN.value\n",
    "print(f\"a: {a_}\\nb: {b_}\\nn: {n_}\")"
   ]
  },
  {
   "cell_type": "markdown",
   "metadata": {},
   "source": [
    "Визуализация СКФ левых прямоугольников для $f(x)$"
   ]
  },
  {
   "cell_type": "code",
   "execution_count": 673,
   "metadata": {},
   "outputs": [
    {
     "data": {
      "application/vnd.jupyter.widget-view+json": {
       "model_id": "6835178b755a4867ae6361b0f3a167d0",
       "version_major": 2,
       "version_minor": 0
      },
      "text/plain": [
       "interactive(children=(IntSlider(value=20, description='n', max=40, min=2), Output()), _dom_classes=('widget-in…"
      ]
     },
     "metadata": {},
     "output_type": "display_data"
    },
    {
     "data": {
      "text/plain": [
       "<function __main__.getGraphInteract.<locals>.graph_(n=20)>"
      ]
     },
     "execution_count": 673,
     "metadata": {},
     "output_type": "execute_result"
    }
   ],
   "source": [
    "graph = getGraphInteract(F, IF, KFL, a_, b_, n_)\n",
    "interact(graph, n=(2, n_ * 2, 1)) \n",
    " "
   ]
  },
  {
   "cell_type": "markdown",
   "metadata": {},
   "source": [
    "Визуализация СКФ правых прямоугольников для $f(x)$"
   ]
  },
  {
   "cell_type": "code",
   "execution_count": 674,
   "metadata": {},
   "outputs": [
    {
     "data": {
      "application/vnd.jupyter.widget-view+json": {
       "model_id": "59afe5857d934d10a39c975b0d1a427c",
       "version_major": 2,
       "version_minor": 0
      },
      "text/plain": [
       "interactive(children=(IntSlider(value=20, description='n', max=40, min=2), Output()), _dom_classes=('widget-in…"
      ]
     },
     "metadata": {},
     "output_type": "display_data"
    },
    {
     "data": {
      "text/plain": [
       "<function __main__.getGraphInteract.<locals>.graph_(n=20)>"
      ]
     },
     "execution_count": 674,
     "metadata": {},
     "output_type": "execute_result"
    }
   ],
   "source": [
    "graph = getGraphInteract(F, IF, KFR, a_, b_, n_)\n",
    "interact(graph, n=(2, n_ * 2, 1)) "
   ]
  },
  {
   "cell_type": "markdown",
   "metadata": {},
   "source": [
    "Визуализация СКФ средних прямоугольников для $f(x)$"
   ]
  },
  {
   "cell_type": "code",
   "execution_count": 675,
   "metadata": {},
   "outputs": [
    {
     "data": {
      "application/vnd.jupyter.widget-view+json": {
       "model_id": "d6a915724e824492a2f15260b0f02f1a",
       "version_major": 2,
       "version_minor": 0
      },
      "text/plain": [
       "interactive(children=(IntSlider(value=20, description='n', max=40, min=2), Output()), _dom_classes=('widget-in…"
      ]
     },
     "metadata": {},
     "output_type": "display_data"
    },
    {
     "data": {
      "text/plain": [
       "<function __main__.getGraphInteract.<locals>.graph_(n=20)>"
      ]
     },
     "execution_count": 675,
     "metadata": {},
     "output_type": "execute_result"
    }
   ],
   "source": [
    "graph = getGraphInteract(F, IF, KFM, a_, b_, n_)\n",
    "interact(graph, n=(2, n_ * 2, 1)) "
   ]
  },
  {
   "cell_type": "markdown",
   "metadata": {},
   "source": [
    "Визуализация СКФ трапеций для $f(x)$"
   ]
  },
  {
   "cell_type": "code",
   "execution_count": 676,
   "metadata": {},
   "outputs": [
    {
     "data": {
      "application/vnd.jupyter.widget-view+json": {
       "model_id": "483a4ee38d5f4ee98badf3316dc1b44e",
       "version_major": 2,
       "version_minor": 0
      },
      "text/plain": [
       "interactive(children=(IntSlider(value=20, description='n', max=40, min=2), Output()), _dom_classes=('widget-in…"
      ]
     },
     "metadata": {},
     "output_type": "display_data"
    },
    {
     "data": {
      "text/plain": [
       "<function __main__.getGraphInteract.<locals>.graph_(n=20)>"
      ]
     },
     "execution_count": 676,
     "metadata": {},
     "output_type": "execute_result"
    }
   ],
   "source": [
    "graph = getGraphInteract(F, IF, KFT, a_, b_, n_)\n",
    "interact(graph, n=(2, n_ * 2, 1)) "
   ]
  },
  {
   "cell_type": "markdown",
   "metadata": {},
   "source": [
    "Значения СКФ и их абсолютная фактическая погрешность для $f(x)$"
   ]
  },
  {
   "cell_type": "code",
   "execution_count": 677,
   "metadata": {},
   "outputs": [
    {
     "name": "stdout",
     "output_type": "stream",
     "text": [
      "                                       Значение        Погрешность\n",
      "Значение интеграла          -1.8121739963850527 0.0000000000000000\n",
      "СКФ левых прямоугольников   -0.9877981451062627 0.8243758512787900\n",
      "СКФ правых прямоугольников  -0.9877981451062627 0.8243758512787900\n",
      "СКФ средних прямоугольников -2.2506556877159438 0.4384816913308911\n",
      "СКФ трапеций                -0.9877981451062627 0.8243758512787900\n",
      "СКФ Симпсона                -1.8297031735127167 0.0175291771276640\n"
     ]
    }
   ],
   "source": [
    "getData(F, IF, a_, b_, n_)"
   ]
  },
  {
   "cell_type": "markdown",
   "metadata": {},
   "source": [
    "Значения СКФ и их абсолютная фактическая погрешность для $p_0(x)$"
   ]
  },
  {
   "cell_type": "code",
   "execution_count": 678,
   "metadata": {},
   "outputs": [
    {
     "name": "stdout",
     "output_type": "stream",
     "text": [
      "                                       Значение        Погрешность\n",
      "Значение интеграла          40.0000000000000000 0.0000000000000000\n",
      "СКФ левых прямоугольников   40.0000000000000000 0.0000000000000000\n",
      "СКФ правых прямоугольников  40.0000000000000000 0.0000000000000000\n",
      "СКФ средних прямоугольников 40.0000000000000000 0.0000000000000000\n",
      "СКФ трапеций                40.0000000000000000 0.0000000000000000\n",
      "СКФ Симпсона                40.0000000000000000 0.0000000000000000\n"
     ]
    }
   ],
   "source": [
    "getData(P0, IP0, a_, b_, n_)"
   ]
  },
  {
   "cell_type": "markdown",
   "metadata": {},
   "source": [
    "Значения СКФ и их абсолютная фактическая погрешность для $p_1(x)$"
   ]
  },
  {
   "cell_type": "code",
   "execution_count": 679,
   "metadata": {},
   "outputs": [
    {
     "name": "stdout",
     "output_type": "stream",
     "text": [
      "                                       Значение         Погрешность\n",
      "Значение интеграла          20.0000000000000000  0.0000000000000000\n",
      "СКФ левых прямоугольников   10.0000000000000000 10.0000000000000000\n",
      "СКФ правых прямоугольников  30.0000000000000000 10.0000000000000000\n",
      "СКФ средних прямоугольников 20.0000000000000000  0.0000000000000000\n",
      "СКФ трапеций                20.0000000000000000  0.0000000000000000\n",
      "СКФ Симпсона                20.0000000000000000  0.0000000000000000\n"
     ]
    }
   ],
   "source": [
    "getData(P1, IP1, a_, b_, n_)"
   ]
  },
  {
   "cell_type": "markdown",
   "metadata": {},
   "source": [
    "Значения СКФ и их абсолютная фактическая погрешность для $p_2(x)$"
   ]
  },
  {
   "cell_type": "code",
   "execution_count": 680,
   "metadata": {},
   "outputs": [
    {
     "name": "stdout",
     "output_type": "stream",
     "text": [
      "                                         Значение         Погрешность\n",
      "Значение интеграла          1960.0000000000000000  0.0000000000000000\n",
      "СКФ левых прямоугольников   1970.0000000000000000 10.0000000000000000\n",
      "СКФ правых прямоугольников  1970.0000000000000000 10.0000000000000000\n",
      "СКФ средних прямоугольников 1955.0000000000000000  5.0000000000000000\n",
      "СКФ трапеций                1970.0000000000000000 10.0000000000000000\n",
      "СКФ Симпсона                1960.0000000000000000  0.0000000000000000\n"
     ]
    }
   ],
   "source": [
    "getData(P2, IP2, a_, b_, n_)"
   ]
  },
  {
   "cell_type": "markdown",
   "metadata": {},
   "source": [
    "Значения СКФ и их абсолютная фактическая погрешность для $p_3(x)$"
   ]
  },
  {
   "cell_type": "code",
   "execution_count": 681,
   "metadata": {},
   "outputs": [
    {
     "name": "stdout",
     "output_type": "stream",
     "text": [
      "                                          Значение           Погрешность\n",
      "Значение интеграла          -2000.0000000000000000    0.0000000000000000\n",
      "СКФ левых прямоугольников   -6030.0000000000000000 4030.0000000000000000\n",
      "СКФ правых прямоугольников   2010.0000000000000000 4010.0000000000000000\n",
      "СКФ средних прямоугольников -1995.0000000000000000    5.0000000000000000\n",
      "СКФ трапеций                -2010.0000000000000000   10.0000000000000000\n",
      "СКФ Симпсона                -2000.0000000000000000    0.0000000000000000\n"
     ]
    }
   ],
   "source": [
    "getData(P3, IP3, a_, b_, n_)"
   ]
  }
 ],
 "metadata": {
  "interpreter": {
   "hash": "987cbd703dfba44d9b85abc3dca62ccaba18865537b5bf4fce303cb64e6f6229"
  },
  "kernelspec": {
   "display_name": "Python 3.9.12 64-bit (windows store)",
   "language": "python",
   "name": "python3"
  },
  "language_info": {
   "codemirror_mode": {
    "name": "ipython",
    "version": 3
   },
   "file_extension": ".py",
   "mimetype": "text/x-python",
   "name": "python",
   "nbconvert_exporter": "python",
   "pygments_lexer": "ipython3",
   "version": "3.9.12"
  },
  "orig_nbformat": 4
 },
 "nbformat": 4,
 "nbformat_minor": 2
}
