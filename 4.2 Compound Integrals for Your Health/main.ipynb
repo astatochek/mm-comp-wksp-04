{
 "cells": [
  {
   "cell_type": "code",
   "execution_count": 409,
   "metadata": {},
   "outputs": [],
   "source": [
    "import numpy as np\n",
    "import matplotlib.pyplot as plt\n",
    "import matplotlib.patches as ptch\n",
    "%matplotlib inline\n",
    "import pandas as pd\n",
    "\n",
    "pd.set_option('display.max_columns', None)\n",
    "pd.set_option('display.max_rows', None)\n",
    "pd.options.display.float_format = '{:.16f}'.format"
   ]
  },
  {
   "cell_type": "markdown",
   "metadata": {},
   "source": [
    "$f(x) = x^2\\cos(x) + x\\sin(x)$"
   ]
  },
  {
   "cell_type": "code",
   "execution_count": 410,
   "metadata": {},
   "outputs": [],
   "source": [
    "def F(x: float) -> float:\n",
    "    return x**2 * np.cos(x) + x * np.sin(x)"
   ]
  },
  {
   "cell_type": "markdown",
   "metadata": {},
   "source": [
    "$\\displaystyle\\int f(x)\\ dx = (x^2-1)\\sin(x) + x\\cos(x) + c$"
   ]
  },
  {
   "cell_type": "code",
   "execution_count": 411,
   "metadata": {},
   "outputs": [],
   "source": [
    "def IF(x: float) -> float:\n",
    "    return (x**2 - 1) * np.sin(x) + x * np.cos(x)"
   ]
  },
  {
   "cell_type": "markdown",
   "metadata": {},
   "source": [
    "$p_0(x) = 2$\n"
   ]
  },
  {
   "cell_type": "code",
   "execution_count": 412,
   "metadata": {},
   "outputs": [],
   "source": [
    "def P0(x: float) -> float:\n",
    "    return 2"
   ]
  },
  {
   "cell_type": "markdown",
   "metadata": {},
   "source": [
    "$\\displaystyle\\int p_0(x)\\ dx = 2x + c$ "
   ]
  },
  {
   "cell_type": "code",
   "execution_count": 413,
   "metadata": {},
   "outputs": [],
   "source": [
    "def IP0(x: float) -> float:\n",
    "    return 2 * x"
   ]
  },
  {
   "cell_type": "markdown",
   "metadata": {},
   "source": [
    "$p_1(x) = x+1$\n"
   ]
  },
  {
   "cell_type": "code",
   "execution_count": 414,
   "metadata": {},
   "outputs": [],
   "source": [
    "def P1(x: float) -> float:\n",
    "    return x + 1"
   ]
  },
  {
   "cell_type": "markdown",
   "metadata": {},
   "source": [
    "$\\displaystyle\\int p_1(x)\\ dx = \\frac{x^2}{2} + x + c$"
   ]
  },
  {
   "cell_type": "code",
   "execution_count": 415,
   "metadata": {},
   "outputs": [],
   "source": [
    "def IP1(x: float) -> float:\n",
    "    return x ** 2 / 2 + x"
   ]
  },
  {
   "cell_type": "markdown",
   "metadata": {},
   "source": [
    "$p_2(x) = 3x^2 - 2$"
   ]
  },
  {
   "cell_type": "code",
   "execution_count": 416,
   "metadata": {},
   "outputs": [],
   "source": [
    "def P2(x: float) -> float:\n",
    "    return 3 * x ** 2 - 2"
   ]
  },
  {
   "cell_type": "markdown",
   "metadata": {},
   "source": [
    "$\\displaystyle\\int p_2(x)\\ dx = x^3 - 2x + c$"
   ]
  },
  {
   "cell_type": "code",
   "execution_count": 417,
   "metadata": {},
   "outputs": [],
   "source": [
    "def IP2(x: float) -> float:\n",
    "    return x ** 3 - 2 * x"
   ]
  },
  {
   "cell_type": "markdown",
   "metadata": {},
   "source": [
    "$p_3(x) = 4x^3 - 3x^2 + 2x$"
   ]
  },
  {
   "cell_type": "code",
   "execution_count": 418,
   "metadata": {},
   "outputs": [],
   "source": [
    "def P3(x: float) -> float:\n",
    "    return 4 * x ** 3 - 3 * x ** 2 + 2 * x"
   ]
  },
  {
   "cell_type": "markdown",
   "metadata": {},
   "source": [
    "$\\displaystyle\\int p_3(x)\\ dx = x^4 - x^3 + x^2$"
   ]
  },
  {
   "cell_type": "code",
   "execution_count": 419,
   "metadata": {},
   "outputs": [],
   "source": [
    "def IP3(x: float) -> float:\n",
    "    return x ** 4 - x ** 3 + x ** 2"
   ]
  },
  {
   "cell_type": "markdown",
   "metadata": {},
   "source": [
    "Адаптированные квадратурные формулы"
   ]
  },
  {
   "cell_type": "code",
   "execution_count": 420,
   "metadata": {},
   "outputs": [],
   "source": [
    "def getSum(f, a: float, b: float, n: int) -> float:\n",
    "    h = (b - a) / n\n",
    "    return sum([f(a + i * h) for i in range(1, n)])\n",
    "\n",
    "\n",
    "def KFL(f, s: float, a: float, b: float, n: int) -> float:\n",
    "    return (f(a) + s) * (b - a) / n\n",
    "\n",
    "\n",
    "def KFR(f, s: float, a: float, b: float, n: int) -> float:\n",
    "    return (s + f(b)) * (b - a) / n\n",
    "\n",
    "\n",
    "def KFM(f, s: float, a: float, b: float, n: int) -> float:\n",
    "    h = (b - a) / n\n",
    "    return sum([f(a + i * h + h / 2) for i in range(n)]) * (b - a) / n\n",
    "\n",
    "\n",
    "def KFT(f, s: float, a: float, b: float, n: int) -> float:\n",
    "    return (f(a) + 2 * s + f(b)) * (b - a) / (2 * n)\n",
    "\n",
    "\n",
    "def KFS(f, s: float, a: float, b: float, n: int) -> float:\n",
    "    h = (b - a) / n\n",
    "    sMid = sum([f(a + (2 * i + 1) * h / 2) for i in range(n)])\n",
    "    return (f(a) + 2 * s + 4 * sMid + f(b)) * h / 6"
   ]
  },
  {
   "cell_type": "code",
   "execution_count": 421,
   "metadata": {},
   "outputs": [],
   "source": [
    "def printGraph(f, a: float, b: float, expected: float, n: int, name: str, res: float):\n",
    "\n",
    "    ptsnum = 1000\n",
    "    ep = (b - a) / 4\n",
    "\n",
    "    X = np.linspace(a - ep, b + ep, ptsnum)\n",
    "    y = [f(x) for x in X]\n",
    "    Ox = [0 for _ in X]\n",
    "\n",
    "    fig, ax = plt.subplots()\n",
    "    ax.plot(X, y, color=\"blue\", alpha=0.5, label=f\"{f.__name__}(x)\")\n",
    "    ax.plot(X, Ox, color=\"black\")\n",
    "\n",
    "    X = [x for x in X if a <= x <= b]\n",
    "    y = [f(x) for x in X]\n",
    "    Xaxis = [0 for _ in X]\n",
    "\n",
    "    h = (b - a) / n\n",
    "\n",
    "    figures = []\n",
    "\n",
    "    if (name == \"KFL\"):\n",
    "        for i in range(n):\n",
    "            c = a + i * (b - a) / n\n",
    "            elem = ((c, 0), (c, f(c)), (c+h, f(c)), (c+h, 0))\n",
    "            figures.append(elem)\n",
    "    elif (name == \"KFR\"):\n",
    "        for i in range(n):\n",
    "            c = a + i * (b - a) / n\n",
    "            elem = ((c, 0), (c, f(c + h)), (c+h, f(c + h)), (c+h, 0))\n",
    "            figures.append(elem)\n",
    "    elif (name == \"KFM\"):\n",
    "        for i in range(n):\n",
    "            c = a + i * (b - a) / n\n",
    "            elem = ((c, 0), (c, f(c + h / 2)), (c+h, f(c + h / 2)), (c+h, 0))\n",
    "            figures.append(elem)\n",
    "    elif (name == \"KFT\"):\n",
    "        for i in range(n):\n",
    "            c = a + i * (b - a) / n\n",
    "            elem = ((c, 0), (c, f(c)), (c+h, f(c + h)), (c+h, 0))\n",
    "            figures.append(elem)\n",
    "\n",
    "    ax.add_patch(ptch.Polygon(figures[0], edgecolor=\"#1207ff\", facecolor=\"#1207ff\", \n",
    "                                        fill=True, alpha=0.2, label=f\"{round(res, 3)}\"))       \n",
    "\n",
    "    figures.remove(figures[0])\n",
    "    \n",
    "    [ax.add_patch(ptch.Polygon(figure, edgecolor=\"#1207ff\", facecolor=\"#1207ff\", \n",
    "                                        fill=True, alpha=0.2)) for figure in figures]\n",
    "\n",
    "    ax.fill_between(X, Xaxis, y, facecolor=\"red\", alpha=0.2, label=f\"{round(expected, 3)}\")\n",
    "    ax.vlines(a, min(f(a), 0), max(f(a), 0), color=\"blue\", alpha=0.2, linestyle=\"--\")\n",
    "    ax.vlines(b, min(f(b), 0), max(f(b), 0), color=\"blue\", alpha=0.2, linestyle=\"--\")\n",
    "    ax.set_xlabel(\"x\")\n",
    "    ax.set_ylabel(\"y\")\n",
    "    ax.legend()\n",
    "\n",
    "    plt.show()\n",
    "\n",
    "\n",
    "def getGraph(f, If, formula, a: float, b: float, n: int):\n",
    "    Sum = getSum(f, a, b, n)\n",
    "    Res = formula(f, Sum, a, b, n)\n",
    "    Expected = If(b) - If(a)\n",
    "    printGraph(f, a, b, Expected, n, formula.__name__, Res)\n",
    "\n",
    "\n",
    "def getData(f, If, a: float, b: float, n: int):\n",
    "    Sum = getSum(f, a, b, n)\n",
    "    Expected = If(b) - If(a)\n",
    "    Results = [If(b) - If(a), KFL(f, Sum, a, b, n), KFR(f, Sum, a, b, n), \n",
    "                        KFM(f, Sum, a, b, n), KFT(f, Sum, a, b, n), KFS(f, Sum, a, b, n)]\n",
    "    data = {\n",
    "        \"Значение\": Results,\n",
    "        \"Погрешность\": [abs(Expected - result) for result in Results]\n",
    "    }\n",
    "    df = pd.DataFrame(data, index=[\"Значение интеграла\", \"СКФ левых прямоугольников\", \n",
    "                        \"СКФ правых прямоугольников\", \"СКФ средних прямоугольников\",\n",
    "                        \"СКФ трапеций\", \"СКФ Симпсона\"])\n",
    "    print(df)\n"
   ]
  },
  {
   "cell_type": "markdown",
   "metadata": {},
   "source": [
    "Входные данные:"
   ]
  },
  {
   "cell_type": "code",
   "execution_count": 432,
   "metadata": {},
   "outputs": [],
   "source": [
    "a_ = -2\n",
    "b_ = 2\n",
    "n_ = 10"
   ]
  },
  {
   "cell_type": "markdown",
   "metadata": {},
   "source": [
    "Графики:"
   ]
  },
  {
   "cell_type": "markdown",
   "metadata": {},
   "source": [
    "СКФ левых прямоугольников для $f(x)$"
   ]
  },
  {
   "cell_type": "code",
   "execution_count": 434,
   "metadata": {},
   "outputs": [
    {
     "data": {
      "image/png": "[encoded data removed]",
      "text/plain": [
       "<Figure size 432x288 with 1 Axes>"
      ]
     },
     "metadata": {
      "needs_background": "light"
     },
     "output_type": "display_data"
    }
   ],
   "source": [
    "getGraph(F, IF, KFL, a_, b_, n_)"
   ]
  },
  {
   "cell_type": "markdown",
   "metadata": {},
   "source": [
    "СКФ правых прямоугольников для $f(x)$"
   ]
  },
  {
   "cell_type": "code",
   "execution_count": 435,
   "metadata": {},
   "outputs": [
    {
     "data": {
      "image/png": "[encoded data removed]",
      "text/plain": [
       "<Figure size 432x288 with 1 Axes>"
      ]
     },
     "metadata": {
      "needs_background": "light"
     },
     "output_type": "display_data"
    }
   ],
   "source": [
    "getGraph(F, IF, KFR, a_, b_, n_)"
   ]
  },
  {
   "cell_type": "markdown",
   "metadata": {},
   "source": [
    "СКФ средних прямоугольников для $f(x)$"
   ]
  },
  {
   "cell_type": "code",
   "execution_count": 436,
   "metadata": {},
   "outputs": [
    {
     "data": {
      "image/png": "[encoded data removed]",
      "text/plain": [
       "<Figure size 432x288 with 1 Axes>"
      ]
     },
     "metadata": {
      "needs_background": "light"
     },
     "output_type": "display_data"
    }
   ],
   "source": [
    "getGraph(F, IF, KFM, a_, b_, n_)"
   ]
  },
  {
   "cell_type": "markdown",
   "metadata": {},
   "source": [
    "СКФ трапеций для $f(x)$"
   ]
  },
  {
   "cell_type": "code",
   "execution_count": 437,
   "metadata": {},
   "outputs": [
    {
     "data": {
      "image/png": "[encoded data removed]",
      "text/plain": [
       "<Figure size 432x288 with 1 Axes>"
      ]
     },
     "metadata": {
      "needs_background": "light"
     },
     "output_type": "display_data"
    }
   ],
   "source": [
    "getGraph(F, IF, KFT, a_, b_, n_)"
   ]
  },
  {
   "cell_type": "markdown",
   "metadata": {},
   "source": [
    "Значения СКФ и их абсолютная фактическая погрешность для $f(x)$"
   ]
  },
  {
   "cell_type": "code",
   "execution_count": 438,
   "metadata": {},
   "outputs": [
    {
     "name": "stdout",
     "output_type": "stream",
     "text": [
      "                                      Значение        Погрешность\n",
      "Значение интеграла          3.7911972147655204 0.0000000000000000\n",
      "СКФ левых прямоугольников   3.6517816590234511 0.1394155557420693\n",
      "СКФ правых прямоугольников  3.6517816590234511 0.1394155557420693\n",
      "СКФ средних прямоугольников 3.8609378369573357 0.0697406221918153\n",
      "СКФ трапеций                3.6517816590234511 0.1394155557420693\n",
      "СКФ Симпсона                3.7912191109793736 0.0000218962138532\n"
     ]
    }
   ],
   "source": [
    "getData(F, IF, a_, b_, n_)"
   ]
  },
  {
   "cell_type": "markdown",
   "metadata": {},
   "source": [
    "Значения СКФ и их абсолютная фактическая погрешность для $p_0(x)$"
   ]
  },
  {
   "cell_type": "code",
   "execution_count": 439,
   "metadata": {},
   "outputs": [
    {
     "name": "stdout",
     "output_type": "stream",
     "text": [
      "                                      Значение        Погрешность\n",
      "Значение интеграла          8.0000000000000000 0.0000000000000000\n",
      "СКФ левых прямоугольников   8.0000000000000000 0.0000000000000000\n",
      "СКФ правых прямоугольников  8.0000000000000000 0.0000000000000000\n",
      "СКФ средних прямоугольников 8.0000000000000000 0.0000000000000000\n",
      "СКФ трапеций                8.0000000000000000 0.0000000000000000\n",
      "СКФ Симпсона                8.0000000000000000 0.0000000000000000\n"
     ]
    }
   ],
   "source": [
    "getData(P0, IP0, a_, b_, n_)"
   ]
  },
  {
   "cell_type": "markdown",
   "metadata": {},
   "source": [
    "Значения СКФ и их абсолютная фактическая погрешность для $p_1(x)$"
   ]
  },
  {
   "cell_type": "code",
   "execution_count": 440,
   "metadata": {},
   "outputs": [
    {
     "name": "stdout",
     "output_type": "stream",
     "text": [
      "                                      Значение        Погрешность\n",
      "Значение интеграла          4.0000000000000000 0.0000000000000000\n",
      "СКФ левых прямоугольников   3.2000000000000006 0.7999999999999994\n",
      "СКФ правых прямоугольников  4.8000000000000007 0.8000000000000007\n",
      "СКФ средних прямоугольников 4.0000000000000000 0.0000000000000000\n",
      "СКФ трапеций                4.0000000000000009 0.0000000000000009\n",
      "СКФ Симпсона                4.0000000000000009 0.0000000000000009\n"
     ]
    }
   ],
   "source": [
    "getData(P1, IP1, a_, b_, n_)"
   ]
  },
  {
   "cell_type": "markdown",
   "metadata": {},
   "source": [
    "Значения СКФ и их абсолютная фактическая погрешность для $p_2(x)$"
   ]
  },
  {
   "cell_type": "code",
   "execution_count": 441,
   "metadata": {},
   "outputs": [
    {
     "name": "stdout",
     "output_type": "stream",
     "text": [
      "                                      Значение        Погрешность\n",
      "Значение интеграла          8.0000000000000000 0.0000000000000000\n",
      "СКФ левых прямоугольников   8.3200000000000021 0.3200000000000021\n",
      "СКФ правых прямоугольников  8.3200000000000021 0.3200000000000021\n",
      "СКФ средних прямоугольников 7.8400000000000016 0.1599999999999984\n",
      "СКФ трапеций                8.3200000000000021 0.3200000000000021\n",
      "СКФ Симпсона                8.0000000000000018 0.0000000000000018\n"
     ]
    }
   ],
   "source": [
    "getData(P2, IP2, a_, b_, n_)"
   ]
  },
  {
   "cell_type": "markdown",
   "metadata": {},
   "source": [
    "Значения СКФ и их абсолютная фактическая погрешность для $p_3(x)$"
   ]
  },
  {
   "cell_type": "code",
   "execution_count": 442,
   "metadata": {},
   "outputs": [
    {
     "name": "stdout",
     "output_type": "stream",
     "text": [
      "                                        Значение         Погрешность\n",
      "Значение интеграла          -16.0000000000000000  0.0000000000000000\n",
      "СКФ левых прямоугольников   -30.7199999999999989 14.7199999999999989\n",
      "СКФ правых прямоугольников   -1.9199999999999988 14.0800000000000018\n",
      "СКФ средних прямоугольников -15.8400000000000034  0.1599999999999966\n",
      "СКФ трапеций                -16.3200000000000003  0.3200000000000003\n",
      "СКФ Симпсона                -16.0000000000000000  0.0000000000000000\n"
     ]
    }
   ],
   "source": [
    "getData(P3, IP3, a_, b_, n_)"
   ]
  }
 ],
 "metadata": {
  "interpreter": {
   "hash": "987cbd703dfba44d9b85abc3dca62ccaba18865537b5bf4fce303cb64e6f6229"
  },
  "kernelspec": {
   "display_name": "Python 3.9.12 64-bit (windows store)",
   "language": "python",
   "name": "python3"
  },
  "language_info": {
   "codemirror_mode": {
    "name": "ipython",
    "version": 3
   },
   "file_extension": ".py",
   "mimetype": "text/x-python",
   "name": "python",
   "nbconvert_exporter": "python",
   "pygments_lexer": "ipython3",
   "version": "3.9.12"
  },
  "orig_nbformat": 4
 },
 "nbformat": 4,
 "nbformat_minor": 2
}
