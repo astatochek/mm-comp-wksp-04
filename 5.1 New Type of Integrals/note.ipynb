{
 "cells": [
  {
   "cell_type": "markdown",
   "source": [
    "# Задание 5"
   ],
   "metadata": {
    "collapsed": false
   }
  },
  {
   "cell_type": "code",
   "execution_count": 1,
   "outputs": [],
   "source": [
    "import numpy as np\n",
    "%matplotlib inline\n",
    "import matplotlib.pyplot as plt\n",
    "from typing import Callable\n",
    "import pandas as pd\n",
    "from random import uniform as rnd\n",
    "\n",
    "pd.set_option('display.max_columns', None)\n",
    "pd.set_option('display.max_rows', None)"
   ],
   "metadata": {
    "collapsed": false,
    "pycharm": {
     "name": "#%%\n"
    }
   }
  },
  {
   "cell_type": "markdown",
   "source": [
    "### Получение многочлена Лежандра"
   ],
   "metadata": {
    "collapsed": false,
    "pycharm": {
     "name": "#%% md\n"
    }
   }
  },
  {
   "cell_type": "code",
   "execution_count": 2,
   "outputs": [],
   "source": [
    "def get_Legendre(n: int) -> Callable:\n",
    "    a = lambda x: 1.\n",
    "    b = lambda x: x\n",
    "    for k in range(2, n + 1):\n",
    "        a, b = b, (lambda f1, f2: (lambda x: f1(x) * x * (2 * k - 1) / k - f2(x) * (k - 1) / k))(b, a)\n",
    "    return b"
   ],
   "metadata": {
    "collapsed": false,
    "pycharm": {
     "name": "#%%\n"
    }
   }
  },
  {
   "cell_type": "markdown",
   "source": [
    "### Получение корней методом секущих"
   ],
   "metadata": {
    "collapsed": false,
    "pycharm": {
     "name": "#%% md\n"
    }
   }
  },
  {
   "cell_type": "code",
   "execution_count": 3,
   "outputs": [],
   "source": [
    "eps = 1.e-12\n",
    "def secant_method(f: Callable) -> np.ndarray:\n",
    "    segments = []\n",
    "\n",
    "    def get_partition(n: float, a: float, b: float) -> None:\n",
    "        h = (b - a) / n\n",
    "        left = a\n",
    "        for i in range(int(n)):\n",
    "            right = a + (i + 1) * h\n",
    "            if f(left) * f(right) < 0:\n",
    "                segments.append([left, right])\n",
    "            if f(right) != 0:\n",
    "                left = right\n",
    "\n",
    "    get_partition(1.e3, -1, 1)\n",
    "\n",
    "    def get_random(a: float, b: float) -> float:\n",
    "        x = rnd(a, b)\n",
    "        while x == a or x == b:\n",
    "            x = rnd(a, b)\n",
    "        return x\n",
    "\n",
    "    def pure_secants(s: list[float]) -> float:\n",
    "        x0 = s[0]\n",
    "        x1 = get_random(x0, s[1])\n",
    "        x2 = x1 - (f(x1) / (f(x1) - f(x0))) * (x1 - x0)\n",
    "        while abs(x2 - x1) >= eps:\n",
    "            x2, x1, x0 = x2 - (f(x2) / (f(x2) - f(x1))) * (x2 - x1), x2, x1\n",
    "        return x2\n",
    "\n",
    "    hubs = np.array([pure_secants(segment) for segment in segments])\n",
    "    return hubs"
   ],
   "metadata": {
    "collapsed": false,
    "pycharm": {
     "name": "#%%\n"
    }
   }
  },
  {
   "cell_type": "markdown",
   "source": [
    "### Получение коэффициентов КФ Гаусса"
   ],
   "metadata": {
    "collapsed": false
   }
  },
  {
   "cell_type": "code",
   "execution_count": 9,
   "outputs": [],
   "source": [
    "def get_gauss_coefficients(hub_list: np.ndarray, n: int) -> np.ndarray:\n",
    "    p = get_Legendre(n - 1)\n",
    "    return np.array([2 * (1 - hub**2) / (n**2 * (p(hub))**2) for hub in hub_list])"
   ],
   "metadata": {
    "collapsed": false,
    "pycharm": {
     "name": "#%%\n"
    }
   }
  },
  {
   "cell_type": "markdown",
   "source": [
    "#### Вывод узлов и коэффициентов для КФ Гаусса"
   ],
   "metadata": {
    "collapsed": false
   }
  },
  {
   "cell_type": "code",
   "execution_count": 14,
   "outputs": [
    {
     "data": {
      "text/plain": "          Узлы для N = 2 Коэффициенты для N = 2         Узлы для N = 3  \\\nX1   -0.5773502691896257     1.0000000000000002                   -0.8   \nX2    0.5773502691896257     1.0000000000000002  4.930380657631324e-32   \nX3                     _                      _     0.7999999999999999   \nX4                     _                      _                      _   \nX5                     _                      _                      _   \nX6                     _                      _                      _   \nX7                     _                      _                      _   \nX8                     _                      _                      _   \nX9                     _                      _                      _   \nX10                    _                      _                      _   \n\n    Коэффициенты для N = 3       Узлы для N = 4 Коэффициенты для N = 4  \\\nX1     0.37807183364839275  -0.8857744071657502     0.2127196227127349   \nX2      0.8888888888888888  -0.3657472440756585      0.409347011511788   \nX3     0.37807183364839353   0.3657472440756585      0.409347011511788   \nX4                       _   0.8857744071657502     0.2127196227127349   \nX5                       _                    _                      _   \nX6                       _                    _                      _   \nX7                       _                    _                      _   \nX8                       _                    _                      _   \nX9                       _                    _                      _   \nX10                      _                    _                      _   \n\n          Узлы для N = 5 Коэффициенты для N = 5       Узлы для N = 6  \\\nX1   -0.9265671357988284     0.1372484771738869  -0.9489458607285937   \nX2   -0.5715404867922662    0.24036766209267146  -0.6937693926549013   \nX3                   0.0     0.2528395061728395  -0.2539030818183484   \nX4    0.5715404867922662    0.24036766209267146   0.2539030818183485   \nX5    0.9265671357988284     0.1372484771738869   0.6937693926549013   \nX6                     _                      _   0.9489458607285938   \nX7                     _                      _                    _   \nX8                     _                      _                    _   \nX9                     _                      _                    _   \nX10                    _                      _                    _   \n\n    Коэффициенты для N = 6          Узлы для N = 7 Коэффициенты для N = 7  \\\nX1     0.09602919197167116      -0.962492261216492    0.07098627988052662   \nX2     0.15962850094158385      -0.771134844613336    0.11420182617687401   \nX3     0.16878201239892615     -0.4279038564395623    0.12066657742480338   \nX4     0.16878201239892615  1.8932661725304283e-28    0.12187689795918363   \nX5     0.15962850094158385      0.4279038564395623    0.12066657742480338   \nX6     0.09602919197166995       0.771134844613336    0.11420182617687401   \nX7                       _       0.962492261216492    0.07098627988052662   \nX8                       _                       _                      _   \nX9                       _                       _                      _   \nX10                      _                       _                      _   \n\n           Узлы для N = 8 Коэффициенты для N = 8          Узлы для N = 9  \\\nX1    -0.9712972103704756    0.05461861259451984     -0.9773359881271343   \nX2     -0.822844806105977    0.08593084820127606     -0.8589819931529344   \nX3     -0.549764178769419    0.09065531612512998     -0.6375204458809618   \nX4   -0.19304792651809502     0.0918191501116345    -0.33921210887382547   \nX5    0.19304792651809502     0.0918191501116345  1.8367099231598242e-40   \nX6      0.549764178769419    0.09065531612512998     0.33921210887382547   \nX7      0.822844806105977    0.08593084820127606      0.6375204458809618   \nX8     0.9712972103704756    0.05461861259451984      0.8589819931529344   \nX9                      _                      _      0.9773359881271343   \nX10                     _                      _                       _   \n\n    Коэффициенты для N = 9  Узлы для N = 10  Коэффициенты для N = 10  \nX1     0.04332967445214241        -0.981655                 0.035214  \nX2     0.06707808389937937        -0.885173                 0.053852  \nX3     0.07066054557709178        -0.702443                 0.056656  \nX4     0.07162953696847787        -0.450990                 0.057446  \nX5     0.07185889797645752        -0.155400                 0.057703  \nX6     0.07162953696847787         0.155400                 0.057703  \nX7     0.07066054557709178         0.450990                 0.057446  \nX8     0.06707808389937937         0.702443                 0.056656  \nX9     0.04332967445214241         0.885173                 0.053852  \nX10                      _         0.981655                 0.035214  ",
      "text/html": "<div>\n<style scoped>\n    .dataframe tbody tr th:only-of-type {\n        vertical-align: middle;\n    }\n\n    .dataframe tbody tr th {\n        vertical-align: top;\n    }\n\n    .dataframe thead th {\n        text-align: right;\n    }\n</style>\n<table border=\"1\" class=\"dataframe\">\n  <thead>\n    <tr style=\"text-align: right;\">\n      <th></th>\n      <th>Узлы для N = 2</th>\n      <th>Коэффициенты для N = 2</th>\n      <th>Узлы для N = 3</th>\n      <th>Коэффициенты для N = 3</th>\n      <th>Узлы для N = 4</th>\n      <th>Коэффициенты для N = 4</th>\n      <th>Узлы для N = 5</th>\n      <th>Коэффициенты для N = 5</th>\n      <th>Узлы для N = 6</th>\n      <th>Коэффициенты для N = 6</th>\n      <th>Узлы для N = 7</th>\n      <th>Коэффициенты для N = 7</th>\n      <th>Узлы для N = 8</th>\n      <th>Коэффициенты для N = 8</th>\n      <th>Узлы для N = 9</th>\n      <th>Коэффициенты для N = 9</th>\n      <th>Узлы для N = 10</th>\n      <th>Коэффициенты для N = 10</th>\n    </tr>\n  </thead>\n  <tbody>\n    <tr>\n      <th>X1</th>\n      <td>-0.5773502691896257</td>\n      <td>1.0000000000000002</td>\n      <td>-0.8</td>\n      <td>0.37807183364839275</td>\n      <td>-0.8857744071657502</td>\n      <td>0.2127196227127349</td>\n      <td>-0.9265671357988284</td>\n      <td>0.1372484771738869</td>\n      <td>-0.9489458607285937</td>\n      <td>0.09602919197167116</td>\n      <td>-0.962492261216492</td>\n      <td>0.07098627988052662</td>\n      <td>-0.9712972103704756</td>\n      <td>0.05461861259451984</td>\n      <td>-0.9773359881271343</td>\n      <td>0.04332967445214241</td>\n      <td>-0.981655</td>\n      <td>0.035214</td>\n    </tr>\n    <tr>\n      <th>X2</th>\n      <td>0.5773502691896257</td>\n      <td>1.0000000000000002</td>\n      <td>4.930380657631324e-32</td>\n      <td>0.8888888888888888</td>\n      <td>-0.3657472440756585</td>\n      <td>0.409347011511788</td>\n      <td>-0.5715404867922662</td>\n      <td>0.24036766209267146</td>\n      <td>-0.6937693926549013</td>\n      <td>0.15962850094158385</td>\n      <td>-0.771134844613336</td>\n      <td>0.11420182617687401</td>\n      <td>-0.822844806105977</td>\n      <td>0.08593084820127606</td>\n      <td>-0.8589819931529344</td>\n      <td>0.06707808389937937</td>\n      <td>-0.885173</td>\n      <td>0.053852</td>\n    </tr>\n    <tr>\n      <th>X3</th>\n      <td>_</td>\n      <td>_</td>\n      <td>0.7999999999999999</td>\n      <td>0.37807183364839353</td>\n      <td>0.3657472440756585</td>\n      <td>0.409347011511788</td>\n      <td>0.0</td>\n      <td>0.2528395061728395</td>\n      <td>-0.2539030818183484</td>\n      <td>0.16878201239892615</td>\n      <td>-0.4279038564395623</td>\n      <td>0.12066657742480338</td>\n      <td>-0.549764178769419</td>\n      <td>0.09065531612512998</td>\n      <td>-0.6375204458809618</td>\n      <td>0.07066054557709178</td>\n      <td>-0.702443</td>\n      <td>0.056656</td>\n    </tr>\n    <tr>\n      <th>X4</th>\n      <td>_</td>\n      <td>_</td>\n      <td>_</td>\n      <td>_</td>\n      <td>0.8857744071657502</td>\n      <td>0.2127196227127349</td>\n      <td>0.5715404867922662</td>\n      <td>0.24036766209267146</td>\n      <td>0.2539030818183485</td>\n      <td>0.16878201239892615</td>\n      <td>1.8932661725304283e-28</td>\n      <td>0.12187689795918363</td>\n      <td>-0.19304792651809502</td>\n      <td>0.0918191501116345</td>\n      <td>-0.33921210887382547</td>\n      <td>0.07162953696847787</td>\n      <td>-0.450990</td>\n      <td>0.057446</td>\n    </tr>\n    <tr>\n      <th>X5</th>\n      <td>_</td>\n      <td>_</td>\n      <td>_</td>\n      <td>_</td>\n      <td>_</td>\n      <td>_</td>\n      <td>0.9265671357988284</td>\n      <td>0.1372484771738869</td>\n      <td>0.6937693926549013</td>\n      <td>0.15962850094158385</td>\n      <td>0.4279038564395623</td>\n      <td>0.12066657742480338</td>\n      <td>0.19304792651809502</td>\n      <td>0.0918191501116345</td>\n      <td>1.8367099231598242e-40</td>\n      <td>0.07185889797645752</td>\n      <td>-0.155400</td>\n      <td>0.057703</td>\n    </tr>\n    <tr>\n      <th>X6</th>\n      <td>_</td>\n      <td>_</td>\n      <td>_</td>\n      <td>_</td>\n      <td>_</td>\n      <td>_</td>\n      <td>_</td>\n      <td>_</td>\n      <td>0.9489458607285938</td>\n      <td>0.09602919197166995</td>\n      <td>0.771134844613336</td>\n      <td>0.11420182617687401</td>\n      <td>0.549764178769419</td>\n      <td>0.09065531612512998</td>\n      <td>0.33921210887382547</td>\n      <td>0.07162953696847787</td>\n      <td>0.155400</td>\n      <td>0.057703</td>\n    </tr>\n    <tr>\n      <th>X7</th>\n      <td>_</td>\n      <td>_</td>\n      <td>_</td>\n      <td>_</td>\n      <td>_</td>\n      <td>_</td>\n      <td>_</td>\n      <td>_</td>\n      <td>_</td>\n      <td>_</td>\n      <td>0.962492261216492</td>\n      <td>0.07098627988052662</td>\n      <td>0.822844806105977</td>\n      <td>0.08593084820127606</td>\n      <td>0.6375204458809618</td>\n      <td>0.07066054557709178</td>\n      <td>0.450990</td>\n      <td>0.057446</td>\n    </tr>\n    <tr>\n      <th>X8</th>\n      <td>_</td>\n      <td>_</td>\n      <td>_</td>\n      <td>_</td>\n      <td>_</td>\n      <td>_</td>\n      <td>_</td>\n      <td>_</td>\n      <td>_</td>\n      <td>_</td>\n      <td>_</td>\n      <td>_</td>\n      <td>0.9712972103704756</td>\n      <td>0.05461861259451984</td>\n      <td>0.8589819931529344</td>\n      <td>0.06707808389937937</td>\n      <td>0.702443</td>\n      <td>0.056656</td>\n    </tr>\n    <tr>\n      <th>X9</th>\n      <td>_</td>\n      <td>_</td>\n      <td>_</td>\n      <td>_</td>\n      <td>_</td>\n      <td>_</td>\n      <td>_</td>\n      <td>_</td>\n      <td>_</td>\n      <td>_</td>\n      <td>_</td>\n      <td>_</td>\n      <td>_</td>\n      <td>_</td>\n      <td>0.9773359881271343</td>\n      <td>0.04332967445214241</td>\n      <td>0.885173</td>\n      <td>0.053852</td>\n    </tr>\n    <tr>\n      <th>X10</th>\n      <td>_</td>\n      <td>_</td>\n      <td>_</td>\n      <td>_</td>\n      <td>_</td>\n      <td>_</td>\n      <td>_</td>\n      <td>_</td>\n      <td>_</td>\n      <td>_</td>\n      <td>_</td>\n      <td>_</td>\n      <td>_</td>\n      <td>_</td>\n      <td>_</td>\n      <td>_</td>\n      <td>0.981655</td>\n      <td>0.035214</td>\n    </tr>\n  </tbody>\n</table>\n</div>"
     },
     "execution_count": 14,
     "metadata": {},
     "output_type": "execute_result"
    }
   ],
   "source": [
    "def get_hubs_coefficients(n: int) -> pd.DataFrame:\n",
    "    dfs = {}\n",
    "    for i in range(2, n + 1):\n",
    "        P = get_Legendre(i)\n",
    "        hubs = secant_method(P)\n",
    "        coefficients = get_gauss_coefficients(hubs, i)\n",
    "        hubs = np.append(hubs, np.array(['_' for _ in range(n - i)]))\n",
    "        coefficients = np.append(coefficients, np.array(['_' for _ in range(n - i)]))\n",
    "        dfs[f\"Узлы для N = {i}\"] = hubs\n",
    "        dfs[f\"Коэффициенты для N = {i}\"] = coefficients\n",
    "    return pd.DataFrame(dfs, index=[f\"X{i+1}\" for i in range(n)])\n",
    "\n",
    "N = 10\n",
    "df = get_hubs_coefficients(N)\n",
    "df"
   ],
   "metadata": {
    "collapsed": false,
    "pycharm": {
     "name": "#%%\n"
    }
   }
  },
  {
   "cell_type": "markdown",
   "source": [
    "#### Реализация КФ Гаусса"
   ],
   "metadata": {
    "collapsed": false
   }
  },
  {
   "cell_type": "code",
   "execution_count": 6,
   "outputs": [],
   "source": [
    "def gauss(f: Callable, a: float, b: float, n: int) -> float:\n",
    "    legendre = get_Legendre(n)\n",
    "    hub_list = secant_method(legendre)\n",
    "    coefficients = get_gauss_coefficients(hub_list, n)\n",
    "    S = sum([coefficients[i] * f((a + b + (b - a) * hub_list[i]) / 2) for i in range(len(hub_list))])\n",
    "    return (b - a) * S / 2"
   ],
   "metadata": {
    "collapsed": false,
    "pycharm": {
     "name": "#%%\n"
    }
   }
  },
  {
   "cell_type": "code",
   "execution_count": 17,
   "outputs": [
    {
     "name": "stdout",
     "output_type": "stream",
     "text": [
      "84 57.37536119958303\n"
     ]
    }
   ],
   "source": [
    "pol = lambda x: 1 + 3 * x**2 + 5 * x**4\n",
    "integral = lambda x: x + x**3 + x**5\n",
    "left = -2\n",
    "right = 2\n",
    "print(integral(right) - integral(left), gauss(pol, left, right, 4))"
   ],
   "metadata": {
    "collapsed": false,
    "pycharm": {
     "name": "#%%\n"
    }
   }
  }
 ],
 "metadata": {
  "kernelspec": {
   "display_name": "Python 3",
   "language": "python",
   "name": "python3"
  },
  "language_info": {
   "codemirror_mode": {
    "name": "ipython",
    "version": 2
   },
   "file_extension": ".py",
   "mimetype": "text/x-python",
   "name": "python",
   "nbconvert_exporter": "python",
   "pygments_lexer": "ipython2",
   "version": "2.7.6"
  }
 },
 "nbformat": 4,
 "nbformat_minor": 0
}